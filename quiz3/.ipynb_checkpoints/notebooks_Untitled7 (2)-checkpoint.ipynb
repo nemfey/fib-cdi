{
 "cells": [
  {
   "cell_type": "code",
   "execution_count": 2,
   "metadata": {},
   "outputs": [],
   "source": [
    "def LZ77_encode(txt, s, t):\n",
    "    n = len(txt)\n",
    "    i = 0\n",
    "    tok = []\n",
    "    while i < n:\n",
    "        j = max(i - s, 0)\n",
    "        max_match_len = 0\n",
    "        max_match_pos = 0\n",
    "        while j < i:\n",
    "            match_len = 0\n",
    "            while i + match_len < n and txt[j + match_len] == txt[i + match_len] and match_len < t:\n",
    "                match_len += 1\n",
    "                    \n",
    "            if match_len >= max_match_len:\n",
    "                max_match_len = match_len\n",
    "                max_match_pos = i - j\n",
    "            j += 1\n",
    "        if max_match_len == 0:\n",
    "            tok.append((1, 0, txt[i]))\n",
    "            i += 1\n",
    "        else:\n",
    "            if (i+max_match_len < n):\n",
    "                tok.append((max_match_pos, max_match_len, txt[i + max_match_len]))\n",
    "            else: \n",
    "                tok.append((1, max_match_len-1, txt[i + max_match_len-1]))\n",
    "            i += max_match_len + 1\n",
    "    return tok"
   ]
  },
  {
   "cell_type": "code",
   "execution_count": 3,
   "metadata": {},
   "outputs": [],
   "source": [
    "def LZ77_encode2(mensaje,S=12,L=6):\n",
    "    output = []\n",
    "    search_buffer = ''\n",
    "    dic = ''\n",
    "    i = 0\n",
    "    while i < len(mensaje):\n",
    "        if i == 0:\n",
    "            output.append((1,0,mensaje[0]))\n",
    "            search_buffer = mensaje[1:1+L]\n",
    "            dic = mensaje[0]\n",
    "            i += 1\n",
    "            continue\n",
    "        posicion = 0\n",
    "        longitud_maxima_cadena = 0\n",
    "        simbolo = search_buffer[0]\n",
    "        search = dic + search_buffer\n",
    "        j = len(dic) - 1\n",
    "        while j >= 0:\n",
    "            if dic[j] == search_buffer[0]:\n",
    "                l = 1\n",
    "                while len(dic)+l < len(search):\n",
    "                    if search[j+l] == search[len(dic)+l]:\n",
    "                        l +=1\n",
    "                    else:\n",
    "                        break\n",
    "                if l > longitud_maxima_cadena:\n",
    "                    posicion = len(dic) - j\n",
    "                    longitud_maxima_cadena = l\n",
    "                    if len(dic)+l < len(search):\n",
    "                        simbolo = search[len(dic)+l]\n",
    "                    elif i+longitud_maxima_cadena < len(search):\n",
    "                        simbolo = search[i+longitud_maxima_cadena]\n",
    "                    else:\n",
    "                        simbolo = search[len(dic)+l-1]\n",
    "                        longitud_maxima_cadena -= 1\n",
    "            j -= 1\n",
    "        i += longitud_maxima_cadena+1\n",
    "        dic = mensaje[i-S if i-S >= 0 else 0:i]\n",
    "        search_buffer = mensaje[i:i+L+1]\n",
    "        if longitud_maxima_cadena == 0:\n",
    "            posicion = 1\n",
    "        output.append((posicion, longitud_maxima_cadena, simbolo))\n",
    "    return output"
   ]
  },
  {
   "cell_type": "code",
   "execution_count": 4,
   "metadata": {},
   "outputs": [],
   "source": [
    "def LZ77_decode(codigo):\n",
    "    mensaje_recuperado = ''\n",
    "    for [posicion, longitud_maxima_cadena, simbolo] in codigo:\n",
    "        if longitud_maxima_cadena == 0 and posicion == 0:\n",
    "            mensaje_recuperado += simbolo\n",
    "        else:\n",
    "            i = 0\n",
    "            while i < longitud_maxima_cadena:\n",
    "                mensaje_recuperado += mensaje_recuperado[-posicion]\n",
    "                i += 1\n",
    "            mensaje_recuperado += simbolo\n",
    "    return mensaje_recuperado"
   ]
  },
  {
   "cell_type": "code",
   "execution_count": 5,
   "metadata": {},
   "outputs": [],
   "source": [
    "def LZSS_encode2(txt,m,s,t):\n",
    "    tok = []\n",
    "    tok.append((txt[0]))\n",
    "    current_pos = 1\n",
    "    search = txt[0]\n",
    "    lookahead = txt[1:1+t]\n",
    "    while current_pos < len(txt):\n",
    "        offset = 0\n",
    "        length = 0\n",
    "        window = search + lookahead\n",
    "        for i in range(len(search)-1, -1, -1):\n",
    "            if search[i] == lookahead[0]:\n",
    "                match = True\n",
    "                iwind = i+1\n",
    "                jwind = len(search)+1\n",
    "                maxlen = 1\n",
    "                while match and jwind < len(window):\n",
    "                    if window[iwind] == window[jwind]:\n",
    "                       maxlen += 1\n",
    "                       iwind += 1\n",
    "                       jwind += 1\n",
    "                    else:\n",
    "                        match = False\n",
    "                if (maxlen > length):\n",
    "                    offset = len(search)-i\n",
    "                    length = maxlen\n",
    "        if length < m:\n",
    "            tok.append((lookahead[0]))\n",
    "            current_pos += 1\n",
    "        else:\n",
    "            tok.append((offset,length))\n",
    "            current_pos += length\n",
    "        if (current_pos-s < 0):\n",
    "            search = txt[0:current_pos]\n",
    "        else:\n",
    "            search = txt[current_pos-s:current_pos]\n",
    "        lookahead = txt[current_pos:current_pos+t]\n",
    "    return tok"
   ]
  },
  {
   "cell_type": "code",
   "execution_count": 6,
   "metadata": {},
   "outputs": [],
   "source": [
    "def LZSS_encode(txt,mm,s,t):\n",
    "    tok = []\n",
    "    i = 0\n",
    "    n = len(txt)\n",
    "    while i < n:\n",
    "        j = max(i - s, 0)\n",
    "        max_match_len = 0\n",
    "        max_match_pos = 0\n",
    "        while(j < i):\n",
    "            match_len = 0\n",
    "            while i + match_len < n and txt[j + match_len] == txt[i + match_len] and match_len < t:\n",
    "                match_len += 1\n",
    "            if match_len >= max_match_len and match_len >= mm:\n",
    "                max_match_len = match_len\n",
    "                max_match_pos = i - j\n",
    "            j += 1 \n",
    "        if max_match_len == 0:\n",
    "            tok.append(txt[i])\n",
    "            i += 1\n",
    "        else: \n",
    "            tok.append((max_match_pos, max_match_len))\n",
    "        i += max_match_len\n",
    "    return tok"
   ]
  },
  {
   "cell_type": "code",
   "execution_count": 7,
   "metadata": {},
   "outputs": [],
   "source": [
    "def LZSS_decode(tok):\n",
    "    txt = ''\n",
    "    for token in tok:\n",
    "      if isinstance(token, str):\n",
    "          txt += token\n",
    "      else:\n",
    "          for i in range(token[1]):\n",
    "              txt += txt[-token[0]]\n",
    "    return txt"
   ]
  },
  {
   "cell_type": "code",
   "execution_count": 8,
   "metadata": {},
   "outputs": [],
   "source": [
    "def LZ78_encode(txt):\n",
    "    tok = []\n",
    "    tok.append((0, txt[0]))\n",
    "    dictionary = ['', txt[0]]\n",
    "    done = False\n",
    "    current_pos = 1\n",
    "    while current_pos < len(txt):\n",
    "        pointer = ''\n",
    "        for i,x in enumerate(dictionary):\n",
    "            if x == txt[current_pos]:\n",
    "                pointer = i\n",
    "                break\n",
    "        if not pointer:\n",
    "            tok.append((0, txt[current_pos]))\n",
    "            dictionary.append(txt[current_pos])\n",
    "            current_pos += 1\n",
    "        else: \n",
    "            pos = current_pos+1\n",
    "            b = True\n",
    "            while b and pos < len(txt) - 1:\n",
    "                b = False\n",
    "                for i,x in enumerate(dictionary):\n",
    "                    if x == txt[current_pos:pos+1]:\n",
    "                        pointer = i\n",
    "                        b = True\n",
    "                        break\n",
    "                pos += 1\n",
    "            if (pos == len(txt) - 1): pos += 1\n",
    "            tok.append((pointer, txt[pos-1]))\n",
    "            dictionary.append(txt[current_pos:pos])\n",
    "            current_pos = pos \n",
    "            \n",
    "    return tok"
   ]
  },
  {
   "cell_type": "code",
   "execution_count": 9,
   "metadata": {},
   "outputs": [],
   "source": [
    "def LZ78_decode(tok):\n",
    "    txt = ''\n",
    "    dictionary = ['']\n",
    "    for token in tok:\n",
    "        txt += dictionary[token[0]] + token[1]\n",
    "        dictionary.append(dictionary[token[0]] + token[1])\n",
    "    return txt"
   ]
  },
  {
   "cell_type": "code",
   "execution_count": 10,
   "metadata": {},
   "outputs": [],
   "source": [
    "def LZW_encode(txt,alf):\n",
    "    tok = []\n",
    "    dictionary = alf\n",
    "    current_pos = 0\n",
    "    while current_pos < len(txt) - 1:\n",
    "        pointer = dictionary.index(txt[current_pos])\n",
    "        pos = current_pos+1\n",
    "        b = True\n",
    "        while b and pos < len(txt):\n",
    "            b = False\n",
    "            for i,x in enumerate(dictionary):\n",
    "                if x == txt[current_pos:pos+1]:\n",
    "                    pointer = i\n",
    "                    b = True\n",
    "                    break\n",
    "            pos += 1\n",
    "        tok.append(pointer)\n",
    "        dictionary.append(txt[current_pos:pos])\n",
    "        if current_pos == len(txt)-1:\n",
    "            current_pos = pos\n",
    "        else:\n",
    "            current_pos = pos-1\n",
    "    return tok"
   ]
  },
  {
   "cell_type": "code",
   "execution_count": 11,
   "metadata": {},
   "outputs": [],
   "source": [
    "def LZW_decode(tok,alf):\n",
    "    txt = \"\"\n",
    "    for i in range(len(tok)):\n",
    "      txt = txt + alf[tok[i]]     \n",
    "    return txt"
   ]
  },
  {
   "cell_type": "code",
   "execution_count": 12,
   "metadata": {},
   "outputs": [],
   "source": [
    "def LZW_decode2(op, alf):\n",
    "    dictionary = dict(enumerate(alf))\n",
    "    curr_code = len(alf)\n",
    "    prev_str = \"\"\n",
    "    res = \"\"\n",
    "    for code in op:\n",
    "        if code in dictionary:\n",
    "            curr_str = dictionary[code]\n",
    "        elif code == curr_code:\n",
    "            curr_str = prev_str + prev_str[0]\n",
    "        else:\n",
    "            raise ValueError(\"Invalid token\")\n",
    "        res += curr_str\n",
    "        if prev_str:\n",
    "            dictionary[curr_code] = prev_str + curr_str[0]\n",
    "            curr_code += 1\n",
    "        prev_str = curr_str\n",
    "    return res"
   ]
  },
  {
   "cell_type": "code",
   "execution_count": 13,
   "metadata": {},
   "outputs": [],
   "source": [
    "def encode_move_to_front(mensaje,alfabeto):\n",
    "    def move_to_front(cs,c):\n",
    "        if cs[0] == c:\n",
    "            return 0\n",
    "        p = cs.index(c)\n",
    "        del(cs[p])\n",
    "        cs.insert(0,c)\n",
    "        return p\n",
    "    caracteres = alfabeto.copy()\n",
    "    codigo = []\n",
    "    for c in mensaje:\n",
    "        pos = move_to_front(caracteres,c)\n",
    "        codigo.append(pos)\n",
    "    return codigo\n",
    "    \n",
    "def move_to_front2(index, lst):\n",
    "    record = lst.copy()\n",
    "    lst[1:index+1] = record[:index]\n",
    "     \n",
    "    lst[0] = record[index]\n",
    " \n",
    "def decode_move_to_front(cod, alp):\n",
    "    alphabet = list(alp)\n",
    "    txt = \"\"\n",
    "    for index in cod:\n",
    "        char = alphabet[index]\n",
    "        txt += char\n",
    "        alphabet.pop(index)\n",
    "        alphabet.insert(0, char)\n",
    "    return txt"
   ]
  },
  {
   "cell_type": "code",
   "execution_count": 14,
   "metadata": {},
   "outputs": [],
   "source": [
    "import operator\n",
    "from operator import itemgetter\n",
    "def encode_burrows_wheeler(mensaje, k = 100):\n",
    "\tif k > len(mensaje):\n",
    "\t\tk = len(mensaje)\n",
    "\tsuffixes = []\n",
    "\tmensaje_dup = mensaje * 2\n",
    "\tl_dup = len(mensaje_dup)\n",
    "\tfor i in range(0, l_dup-k):\n",
    "\t\tsuffixes.append((i,mensaje_dup[i:i+k]))\n",
    "\t# ordenar lexicográficamente (por el segundo elemento)\n",
    "\tsuffixes.sort(key = lambda x: x[1])\n",
    "\tl = len(mensaje)\n",
    "\tcodigo = [None] * l\n",
    "\ti = 0\n",
    "\tfor index, suffix in suffixes:\n",
    "\t\tif index < l:\n",
    "\t\t\tif index == 0:\n",
    "\t\t\t\tposicion = i\n",
    "\t\t\tcodigo[i] = mensaje[index-1]\n",
    "\t\t\ti += 1\n",
    "\treturn ''.join(codigo), posicion\n",
    "\n",
    "def decode_burrows_wheeler(L, I):\n",
    "    n = len(L)\n",
    "    X = sorted([(i, x) for i, x in enumerate(L)], key=itemgetter(1))\n",
    "\n",
    "    T = [None for i in range(n)]\n",
    "    for i, y in enumerate(X):\n",
    "        j, _ = y\n",
    "        T[j] = i\n",
    "\n",
    "    Tx = [I]\n",
    "    for i in range(1, n):\n",
    "        Tx.append(T[Tx[i-1]])\n",
    "\n",
    "    S = [L[i] for i in Tx]\n",
    "    S.reverse()\n",
    "    return ''.join(S)"
   ]
  },
  {
   "cell_type": "code",
   "execution_count": 59,
   "metadata": {},
   "outputs": [],
   "source": [
    "txt = \"der see und dem strande sein adieu gesagt er sagte es nun den kellnern die ihre trinkgelder entgegennahmen dem musiktempel den rosenbeeten und dieser ganzen sommerszeit und dann unter den verbeugungen des hotelpersonals setzte sich der wagen in bewegung er passierte die allee die zum stadtchen fuhrte und fuhr die vorderreihe entlang hanno druckte den kopf in die wagenecke und sah an ida jungmann vorbei die frischaugig weisshaarig und knochig ihm gegenuber auf dem ruckplatze sass zum fenster hinaus der morgenhimmel war weisslich bedeckt und die trave warf kleine wellen die schnell vor dem winde dahereilten dann und wann prickelten regentropfen gegen die scheiben am ausgange der vorderreihe sassen leute vor ihren hausturen und flickten netze barfussige kinder kamen herbeigelaufen und betrachteten neugierig den wagen die blieben hier als der wagen die letzten hauser zuruckliess beugte hanno sich vor um noch einmal den leuchtturm zu sehen dann lehnte er sich zuruck und schloss die augen nachsts jahr wieder hannochen sagte ida jungmann mit tiefer trostender stimme aber dieser zuspruch hatte nur gefehlt um sein kinn in zitternde bewegung zu setzen und die tranen unter seinen langen wimpern hervorquellen zu lassen sein gesicht und seine hande waren von der seeluft gebraunt aber wenn man mit diesem badeaufenthalt den zweck verfolgt hatte ihn harter energischer frischer und widerstandsfahiger zu machen so war man jammerlich fehlgegangen von dieser hoffnungslosen wahrheit war er ganz erfullt sein herz war durch diese vier wochen voll meeresandacht und eingehegtem frieden nur noch viel weicher verwohnter traumerischer empfindlicher geworden und nur noch viel unfahiger bei dem ausblick auf herrn tiedges regeldetri tapfer zu bleiben und bei dem gedanken an das auswendiglernen der geschichtszahlen und grammatischen regeln an das verzweifelt leichtsinnige wegwerfen der bucher und den tiefen schlaf um allem zu entgehen an die angst am morgen und vor den stunden die katastrophen die feindlichen hagenstroms und die anforderungen die sein vater an ihn stellte nicht vollstandig zu verzagen dann aber ermunterte die morgendliche fahrt ihn ein wenig die zwischen dem gezwitscher der vogel durch die wassererfullten geleise der landstrasse dahinging er dachte an kai\""
   ]
  },
  {
   "cell_type": "code",
   "execution_count": 60,
   "metadata": {},
   "outputs": [
    {
     "name": "stdout",
     "output_type": "stream",
     "text": [
      "índex (posició del text a les permutacions) 608\n"
     ]
    }
   ],
   "source": [
    "cod, ind = encode_burrows_wheeler(txt);\n",
    "print(\"índex (posició del text a les permutacions)\",ind);"
   ]
  },
  {
   "cell_type": "code",
   "execution_count": 67,
   "metadata": {},
   "outputs": [
    {
     "name": "stdout",
     "output_type": "stream",
     "text": [
      "[(1, 0, 'd'), (1, 0, 'e'), (1, 0, 'v'), (2, 1, ' '), (1, 0, 'p'), (1, 0, 'o'), (1, 0, 't'), (5, 1, 'r'), (6, 1, 'd'), (4, 1, 'l'), (4, 1, 'v'), (10, 1, 'l'), (10, 3, 'm'), (1, 0, 'i'), (7, 1, ' '), (20, 1, 'i'), (1, 0, 'u'), (4, 1, 'c'), (1, 0, 'h'), (28, 4, 's'), (1, 1, 'i'), (15, 2, 'i'), (28, 8, 'd'), (10, 1, ' '), (31, 2, 'a'), (4, 2, 'a'), (9, 1, 'r'), (29, 2, 'a'), (20, 1, 'r'), (27, 3, 'n'), (3, 1, 's'), (21, 2, 'l'), (3, 1, 'e'), (74, 3, 's'), (73, 1, 'i'), (26, 2, ' '), (56, 2, 'i'), (23, 2, 'l'), (68, 3, 'o'), (16, 1, 'p'), (3, 1, 'n'), (1, 0, 'g'), (17, 2, 'a'), (90, 12, 'd'), (8, 1, 'h'), (4, 1, 'q'), (93, 1, 'a'), (19, 2, 'p'), (9, 1, 'c'), (1, 1, 'a'), (49, 1, 'o'), (8, 2, 'u'), (128, 3, ' '), (2, 1, 's'), (1, 1, 'e'), (33, 2, 's'), (74, 2, 'g'), (6, 1, 'i'), (75, 4, 'a'), (2, 1, 'u'), (59, 1, 'a'), (45, 2, 'o'), (5, 1, 'z'), (12, 1, 'l'), (1, 1, 'a'), (50, 6, 'b'), (122, 2, 's'), (67, 1, 'o'), (37, 4, 'r'), (73, 3, 'c'), (3, 1, 'm'), (39, 2, 'q'), (24, 1, 'e'), (117, 2, 'o'), (19, 2, 'a'), (18, 1, 'a'), (5, 2, 'e'), (3, 1, 'n'), (48, 2, ' '), (107, 4, 'n'), (57, 2, ' '), (32, 1, 'h'), (40, 2, 's'), (10, 1, 'm'), (95, 1, 'r'), (23, 2, 'h'), (119, 3, 'a'), (81, 2, 'b'), (65, 2, 'd'), (2, 1, 'r'), (8, 1, 'm'), (45, 2, 'i'), (120, 4, 'r'), (39, 5, 'a'), (48, 1, 'r'), (27, 2, 'm'), (17, 1, 's'), (126, 2, 'a'), (7, 2, 'e'), (40, 2, 'u'), (21, 1, 'q'), (84, 2, ' '), (29, 1, 'o'), (17, 1, 's'), (16, 1, 'n'), (124, 1, 'a'), (9, 1, 'l'), (22, 3, 'a'), (46, 1, 'e'), (29, 1, 'n'), (8, 2, 'p'), (37, 1, 'e'), (9, 1, 'a'), (87, 4, 'o'), (5, 1, 't'), (8, 1, 'b'), (30, 2, 'd'), (109, 2, 'i'), (10, 1, 'o'), (60, 3, 'o'), (4, 1, 'r'), (51, 1, 'g'), (1, 1, 'i'), (37, 2, 'o'), (9, 1, 'e'), (32, 3, 'a'), (4, 1, 'n'), (15, 1, 'o'), (86, 1, 'a'), (125, 2, 'p'), (84, 3, 'n'), (68, 3, 'a'), (86, 2, 'e'), (13, 1, 'i'), (121, 2, 'n'), (23, 3, 'o'), (14, 3, 'n'), (8, 6, 'm'), (4, 1, 'r'), (61, 3, ' '), (71, 7, 'p'), (21, 1, 'r'), (109, 4, 'r'), (12, 1, 'v'), (54, 2, 'e'), (54, 4, 'e'), (15, 2, 'o'), (54, 1, 's'), (13, 2, 'v'), (68, 5, 'c'), (87, 2, 'i'), (5, 1, 'b'), (57, 2, 'n'), (6, 2, 'p'), (10, 1, 'd'), (38, 2, ' '), (83, 2, 'n'), (1, 1, 'o'), (6, 1, 'i'), (2, 1, 'f'), (3, 1, 'g'), (40, 1, 'i'), (26, 8, 'o'), (25, 1, 'r'), (20, 2, 'd'), (46, 2, 'p'), (3, 1, 'r'), (1, 0, 't'), (64, 2, 'e'), (2, 1, 's'), (14, 1, 'l'), (105, 3, 'v'), (21, 3, 'r'), (30, 1, 's'), (21, 1, 'e'), (20, 1, 't'), (14, 3, 'l'), (117, 3, 'o'), (49, 2, 'e'), (48, 1, 'e'), (12, 8, 'g'), (8, 1, 'u'), (52, 1, 'i'), (26, 9, 'd'), (4, 1, 'l'), (41, 5, 's'), (3, 2, 'q'), (24, 1, 'a'), (38, 1, 't'), (25, 3, 'h'), (91, 2, 'l'), (5, 1, 's'), (1, 1, 'a'), (117, 3, 'b'), (1, 1, 'o'), (115, 2, 'a'), (78, 1, ' '), (30, 10, 'd'), (126, 6, 'a'), (23, 2, 'i'), (73, 1, 'l'), (3, 1, 'a'), (71, 4, 'd'), (39, 2, 'i'), (26, 3, 'c'), (22, 2, 'v'), (8, 1, 'e'), (4, 1, 's'), (33, 2, 'i'), (13, 2, 'l'), (51, 4, 'm'), (31, 2, 'c'), (77, 1, 'e'), (103, 3, ' '), (25, 1, 'a'), (17, 3, 'e'), (3, 1, 'n'), (35, 2, ' '), (1, 0, 'p'), (62, 2, ' '), (46, 1, 'a'), (75, 4, 'l'), (31, 2, 'r'), (3, 1, 'g'), (45, 2, 'n'), (38, 5, 'n'), (28, 4, 'o'), (119, 2, 'i'), (9, 2, ' '), (8, 1, 'i'), (37, 1, ' '), (53, 2, 's'), (77, 5, 's'), (35, 1, 'm'), (17, 1, 'r'), (44, 4, 'c'), (3, 1, 'c'), (1, 1, 'i'), (7, 2, 'e'), (12, 4, 'f'), (3, 1, 'r'), (25, 2, 't'), (5, 3, 'd'), (24, 4, 'n'), (77, 3, 'n'), (24, 4, 's'), (45, 2, ' '), (76, 2, 'i'), (14, 2, 'd'), (4, 1, 's'), (76, 2, 'n'), (92, 1, 'a'), (23, 4, 'c'), (17, 4, 'p'), (76, 5, 'd'), (3, 2, 'm'), (17, 2, 'd'), (29, 4, 'r'), (95, 3, ' '), (116, 4, 'q'), (107, 1, 'a'), (64, 4, 'a'), (63, 2, 'u'), (30, 2, 'p'), (97, 2, 'c'), (101, 6, 's'), (19, 1, 'l'), (27, 8, 'e'), (72, 1, 'l'), (59, 3, 'e'), (10, 1, 't'), (6, 2, 'i'), (91, 4, 'c'), (32, 4, 'f'), (41, 6, 'f'), (4, 1, 'g'), (29, 2, 'a'), (21, 2, 'a'), (88, 1, 'o'), (107, 3, 'e'), (98, 4, 'b'), (6, 1, 'a'), (42, 1, 'r'), (37, 2, 'e'), (67, 3, 'n'), (61, 3, ' '), (7, 3, ' '), (30, 1, 'i'), (110, 2, 'r'), (39, 2, 'm'), (14, 3, 'e'), (8, 1, 'v'), (48, 6, 'r'), (46, 3, 'a'), (47, 2, 'g'), (7, 1, 'n'), (5, 1, 't'), (13, 2, 'i'), (36, 3, 'e'), (5, 2, 't'), (9, 1, 'o'), (31, 2, 'r'), (7, 1, 'p'), (38, 2, 'd'), (62, 4, 's'), (9, 3, 'o'), (68, 3, 'p'), (28, 2, 't'), (54, 2, 's'), (127, 3, 'c'), (7, 1, 'd'), (19, 4, 'i'), (84, 2, 'e'), (7, 1, 'r'), (68, 4, 'm'), (24, 6, 'o'), (1, 0, 'f'), (1, 1, 'e'), (20, 1, 'd'), (27, 4, 'a'), (91, 3, ' '), (39, 1, 'h'), (76, 2, 's'), (73, 2, 'a'), (5, 1, 'b'), (1, 0, 'u'), (72, 4, 'a'), (13, 2, 'c'), (18, 2, 'v'), (17, 2, 'm'), (23, 2, 'c'), (17, 2, ' '), (80, 1, 'r'), (81, 2, 'g'), (35, 3, 'i'), (1, 0, 'l'), (25, 2, 'u'), (31, 2, 'f'), (4, 1, 'r'), (75, 4, 'c'), (18, 1, 'e'), (15, 2, 'o'), (19, 2, 'v'), (4, 1, 'g'), (5, 1, 'i'), (51, 2, 'u'), (40, 1, 'a'), (4, 1, 'd'), (36, 2, 'm'), (43, 2, ' '), (62, 2, 'u'), (3, 1, 'e'), (17, 2, 'd'), (11, 1, 'r'), (6, 2, 'e'), (2, 1, 'n'), (66, 3, 'm'), (25, 2, 'f'), (31, 1, 'c'), (1, 1, 'i'), (90, 3, 'u'), (100, 1, 'i'), (1, 0, 't'), (68, 2, 'm'), (66, 2, 'i'), (30, 3, 'o'), (86, 2, 'm'), (74, 3, 'o'), (34, 2, 'l'), (64, 2, 'g'), (30, 2, 'e'), (52, 1, ' '), (12, 1, 's'), (31, 1, 'i'), (75, 2, 't'), (12, 2, 'p'), (102, 2, 'v'), (6, 2, 'h'), (44, 2, 'c'), (22, 1, 'r'), (3, 1, 'a'), (52, 3, 'r'), (35, 1, 'g'), (1, 1, 'i'), (12, 2, ' '), (11, 1, 'r'), (14, 1, 'r'), (60, 3, 'a'), (51, 1, 'l'), (31, 2, 'f'), (50, 2, 'e'), (54, 4, 'h'), (31, 1, 'l'), (1, 1, 'o'), (26, 4, 't'), (41, 3, 'a'), (11, 1, ' '), (24, 1, 'i'), (117, 3, 'a'), (59, 2, 'h'), (30, 2, 'm'), (124, 2, 'g'), (3, 1, 'o'), (75, 3, 's'), (12, 2, 'l'), (14, 3, 'o'), (4, 1, 'b'), (9, 1, 'n'), (33, 2, 'a'), (67, 3, 'i'), (8, 2, 'u'), (110, 2, 'l'), (5, 1, 'd'), (50, 2, 't'), (15, 1, 'i'), (105, 3, 'd'), (20, 2, 'c'), (32, 1, 's'), (10, 2, 'm'), (46, 2, 'n'), (8, 1, 'n'), (4, 1, 'p'), (110, 3, 's'), (54, 3, 'a'), (9, 2, ' '), (32, 2, 'n'), (44, 1, 'o'), (70, 3, 'i'), (68, 3, 'e'), (4, 1, 'e'), (5, 1, 'o'), (85, 1, 'n'), (40, 2, 'a'), (4, 1, 'n'), (79, 2, 'e'), (47, 3, 'i'), (48, 5, 'l'), (13, 2, 'p'), (63, 2, 's'), (13, 1, 'e'), (72, 3, 'm'), (43, 2, 'v'), (15, 3, 'r'), (13, 1, 'm'), (9, 2, 'm'), (9, 1, 'r'), (7, 1, 'r'), (90, 2, 'h'), (42, 6, 's'), (3, 1, 'a'), (27, 2, 'e'), (16, 1, 'o'), (17, 3, 'i'), (34, 3, 'i'), (73, 1, 'l'), (73, 3, 'l'), (1, 0, 't'), (17, 3, 'm'), (7, 1, 'r'), (11, 1, 't'), (24, 4, 'e'), (111, 2, 'u'), (23, 1, 'g'), (72, 2, 'r'), (13, 2, 's'), (36, 3, 'n'), (92, 3, 's'), (28, 2, 'o'), (39, 3, ' '), (36, 1, 'i'), (52, 3, 'a'), (97, 1, 'r'), (35, 2, 'u'), (1, 0, 'b'), (1, 1, 'i'), (8, 1, 'i'), (8, 1, 'n'), (50, 1, 'e'), (33, 2, 'e'), (27, 3, 'l'), (105, 3, 'i'), (4, 3, 'a'), (29, 4, 'i'), (58, 3, 'a'), (50, 10, 'f'), (11, 1, 'a'), (39, 2, 'l'), (1, 1, 'o'), (92, 5, 'm'), (7, 1, 'l'), (102, 3, 'e'), (8, 9, 'p'), (33, 1, 'u'), (4, 1, 'd'), (4, 1, ' '), (30, 2, 'r'), (11, 2, 'r'), (11, 1, 'd'), (82, 8, 'g'), (17, 1, 'i'), (4, 1, 'h'), (80, 2, 'l'), (3, 2, 't'), (73, 2, 'p'), (116, 2, ' '), (19, 1, 't'), (11, 3, 'o'), (52, 4, 'i'), (86, 2, 'c'), (14, 1, 'r'), (1, 0, 'v'), (82, 5, 'e'), (100, 2, ' '), (1, 0, 'q'), (54, 1, 'e'), (110, 1, 't'), (93, 6, 'r'), (28, 1, 'n'), (116, 2, 'd'), (12, 2, 'v'), (19, 1, 'o'), (37, 3, 'o'), (13, 1, 's'), (79, 5, 'o'), (23, 1, 'l'), (22, 1, 'n'), (22, 3, 'a'), (5, 1, 'c'), (11, 2, 'a'), (116, 4, 'e'), (109, 2, 'm'), (7, 2, 'h'), (19, 2, 'q'), (60, 6, 'e'), (9, 4, 'l'), (80, 3, 'l'), (118, 2, 'q'), (10, 1, 'a'), (6, 3, 'd'), (66, 2, ' '), (39, 1, 'i'), (5, 1, ' '), (68, 2, 'o'), (51, 3, 'i'), (78, 2, 'm'), (10, 2, 'd'), (41, 4, 't'), (3, 1, 'm'), (5, 2, 'c'), (108, 3, 'l'), (39, 2, 't'), (27, 3, 'n'), (21, 1, 's'), (7, 4, 'g'), (106, 5, 't'), (49, 1, 't'), (1, 1, 'a'), (46, 2, 'n'), (19, 1, 'i'), (38, 4, 's'), (87, 5, 's'), (18, 1, 'i'), (64, 4, 'f'), (4, 1, 'o'), (117, 2, 's'), (18, 9, 'o'), (49, 1, 'n'), (9, 1, 'n'), (80, 2, 's'), (11, 2, 'm'), (49, 2, 'l'), (64, 3, 'l'), (31, 2, 'i'), (7, 2, 'e'), (12, 2, 'o'), (21, 2, 'p'), (5, 1, 'e'), (109, 3, 'r'), (9, 1, 'd'), (40, 2, 'c'), (106, 1, 'i'), (22, 1, 'r'), (2, 1, 'm'), (125, 2, 't'), (80, 5, 's'), (9, 1, 'p'), (109, 4, 'l'), (25, 2, 'a'), (126, 3, 'i'), (71, 6, ' '), (16, 6, 'z'), (63, 4, 's'), (15, 1, 'b'), (13, 2, 'm'), (10, 2, 'p'), (5, 1, 'u'), (60, 3, 'e'), (4, 1, 'n'), (58, 2, ' '), (6, 2, 'd'), (3, 1, 'l'), (18, 3, 'e'), (7, 2, ' '), (55, 3, 'a'), (112, 4, 'f'), (61, 1, 'o'), (83, 4, 'p'), (3, 1, 'r'), (38, 2, 'e')]\n",
      "deve poter del voler mio piu che possio il voler di mia madre avro in si lieve stima chio lo posponga al voler mio deh qual peccato puote esser si grieve a una donzella qual biasmo si rio come questo sara se non volendo chi sempre ho da ubbidir marito prendo avra misera me dunque possanza la materna pieta chio tabandoni o mio ruggiero e cha nuova speranza a desir nuovo a nuovo amor mi doni o pur la riverenza e losservanza chai buoni padri denno i figli buoni porro da parte e solo avro rispetto al mio bene al mio gaudio al mio diletto so quanto ahi lassa debbo far so quanto di buona figlia al debito conviensi io l so ma che mi val se non puo tanto la ragion che non possino piu i sensi samor la caccia e la far star da canto ne lassa chio disponga ne chio pensi di me dispor se non quanto a lui piaccia e sol quanto egli detti io dica e faccia figlia damone e di beatrice sono e son misera me serva damore dai genitori miei trovar perdono spero e pieta sio cadero in errore ma sio offendero amor chi sara buono a schivarmi con prieghi il suo furore che sol voglia una di mie scuse udire e non mi faccia subito morire ohime con lunga ed ostinata prova ho cercato ruggier trarre alla fede ed hollo tratto al fin ma che mi giova se l mio ben fare in util daltri cede cosi ma non per se lape rinuova il mele ogni anno e mai non lo possiede ma vo prima morir che mai sia vero chio pigli altro marito che ruggiero sio non saro al mio padre ubbidiente ne alla mia madre io saro al mio fratello che molto e molto e piu di lor prudente ne gli ha la troppa eta tolto il cervello e a questo che rinaldo vuol consente orlando ancora e per me ho questo e quello li quali duo piu onora il mondo e teme che laltra nostra gente tutta insieme se questi il fior se questi ognuno stima la gloria e lo splendor di chiaramonte se sopra gli altri ognun gli alza e sublima piu che non e del piede alta la fronte perche\n"
     ]
    },
    {
     "data": {
      "text/plain": [
       "True"
      ]
     },
     "execution_count": 67,
     "metadata": {},
     "output_type": "execute_result"
    }
   ],
   "source": [
    "txt = \"deve poter del voler mio piu che possio il voler di mia madre avro in si lieve stima chio lo posponga al voler mio deh qual peccato puote esser si grieve a una donzella qual biasmo si rio come questo sara se non volendo chi sempre ho da ubbidir marito prendo avra misera me dunque possanza la materna pieta chio tabandoni o mio ruggiero e cha nuova speranza a desir nuovo a nuovo amor mi doni o pur la riverenza e losservanza chai buoni padri denno i figli buoni porro da parte e solo avro rispetto al mio bene al mio gaudio al mio diletto so quanto ahi lassa debbo far so quanto di buona figlia al debito conviensi io l so ma che mi val se non puo tanto la ragion che non possino piu i sensi samor la caccia e la far star da canto ne lassa chio disponga ne chio pensi di me dispor se non quanto a lui piaccia e sol quanto egli detti io dica e faccia figlia damone e di beatrice sono e son misera me serva damore dai genitori miei trovar perdono spero e pieta sio cadero in errore ma sio offendero amor chi sara buono a schivarmi con prieghi il suo furore che sol voglia una di mie scuse udire e non mi faccia subito morire ohime con lunga ed ostinata prova ho cercato ruggier trarre alla fede ed hollo tratto al fin ma che mi giova se l mio ben fare in util daltri cede cosi ma non per se lape rinuova il mele ogni anno e mai non lo possiede ma vo prima morir che mai sia vero chio pigli altro marito che ruggiero sio non saro al mio padre ubbidiente ne alla mia madre io saro al mio fratello che molto e molto e piu di lor prudente ne gli ha la troppa eta tolto il cervello e a questo che rinaldo vuol consente orlando ancora e per me ho questo e quello li quali duo piu onora il mondo e teme che laltra nostra gente tutta insieme se questi il fior se questi ognuno stima la gloria e lo splendor di chiaramonte se sopra gli altri ognun gli alza e sublima piu che non e del piede alta la fronte perche\"\n",
    "tok = LZ77_encode2(txt,128,16);\n",
    "print(tok);\n",
    "print(LZ77_decode(tok))\n",
    "txt == LZ77_decode(tok)"
   ]
  },
  {
   "cell_type": "code",
   "execution_count": 14,
   "metadata": {},
   "outputs": [
    {
     "name": "stdout",
     "output_type": "stream",
     "text": [
      "[(1, 0, 's'), (1, 0, 'p'), (1, 0, 'i'), (1, 0, 'k'), (1, 0, 'e'), (1, 0, 'r'), (1, 0, ' '), (1, 0, 'm'), (1, 0, 'o'), (1, 0, 'n'), (6, 1, 'y'), (6, 1, 'o'), (9, 2, 'n'), (4, 1, ' '), (5, 1, 'e'), (1, 0, 'l'), (2, 1, 'a'), (24, 1, 'e'), (8, 3, 'p'), (8, 2, 't'), (3, 1, 'd'), (29, 2, 'r'), (3, 1, 'g'), (1, 0, 'u'), (20, 1, 'p'), (41, 1, 'd'), (6, 1, 'e'), (9, 1, 'f'), (6, 1, 'r'), (15, 1, 'l'), (42, 2, 't'), (1, 0, 'h'), (11, 2, 'n'), (3, 1, 'x'), (7, 1, ' '), (15, 1, 'n'), (40, 3, 'v'), (66, 2, 's'), (9, 1, 'o'), (10, 1, 'y'), (3, 1, 'u'), (13, 1, 'u'), (6, 1, 'd'), (13, 3, 't'), (56, 1, 'n'), (55, 3, 'e'), (3, 1, 'k'), (2, 1, 's'), (10, 1, 'i'), (65, 5, 's'), (104, 6, 'w'), (6, 1, 't'), (58, 1, ' '), (29, 2, ' '), (42, 1, 'm'), (57, 2, 'o'), (44, 1, 's'), (8, 1, 'l'), (5, 1, 'o'), (36, 2, 'k'), (79, 4, 'n'), (5, 1, 'p'), (11, 1, 's'), (30, 2, 'i'), (76, 2, 'l'), (95, 2, 'r'), (5, 1, 'f'), (29, 2, 'e'), (57, 2, 't'), (142, 2, 's'), (18, 1, 'g'), (27, 2, 'h'), (75, 2, 'w'), (147, 2, ' '), (142, 2, 't'), (40, 2, 'd'), (24, 3, 'a'), (121, 2, 'n'), (7, 1, 'w'), (68, 1, 'a'), (40, 1, 'k'), (6, 1, 't'), (147, 2, 'o'), (88, 2, 't'), (34, 1, 'a'), (9, 2, 'p'), (52, 1, 'r'), (68, 3, 'e'), (96, 3, 'd'), (50, 4, 'p'), (12, 1, 'i'), (9, 1, 't'), (1, 0, 'b'), (78, 1, 'a'), (5, 1, 'k'), (80, 8, ' '), (80, 3, 'd'), (3, 2, 'i'), (43, 2, 'm'), (146, 8, ' '), (88, 4, 's'), (20, 3, 'n'), (91, 2, 'r'), (2, 1, 's'), (239, 4, 't'), (76, 4, 'h'), (64, 2, 'b'), (3, 1, 'c'), (9, 1, 'm'), (7, 2, 'q'), (58, 1, 'i'), (22, 2, ' '), (26, 2, 'o'), (224, 2, ' '), (41, 3, 't'), (26, 3, 'm'), (137, 4, 'r'), (86, 3, 's'), (7, 1, 's'), (140, 4, 't'), (20, 1, 'i'), (8, 2, 'h'), (208, 2, 'r'), (239, 8, ' '), (304, 8, ' '), (27, 2, 'r'), (24, 1, 'w'), (93, 2, 'g'), (31, 2, 'i'), (23, 1, 's'), (219, 2, 'f'), (86, 2, 'a'), (86, 1, 'k'), (310, 4, 'h'), (51, 3, 'c'), (106, 2, 'i'), (44, 2, 'o'), (56, 3, 'f'), (3, 1, 'i'), (218, 3, ' '), (141, 2, 't'), (88, 2, 'b'), (50, 2, 'o'), (35, 2, 'w'), (17, 1, 'l'), (1, 1, ' '), (354, 2, 'c'), (184, 3, ' '), (134, 3, 'i'), (58, 2, 'i'), (234, 4, 'b'), (403, 2, 'r'), (199, 4, 'e'), (26, 1, 'p'), (218, 2, 'i'), (71, 2, 'm'), (149, 1, 's'), (86, 4, 'g'), (62, 2, 'e'), (24, 1, 'a'), (50, 2, 'y'), (78, 2, 'n'), (146, 2, 'c'), (1, 1, 'o'), (392, 2, 't'), (11, 2, 'f'), (174, 7, 'g'), (13, 1, 'i'), (9, 1, 'u'), (312, 2, ' '), (17, 7, 'i'), (236, 7, 's'), (10, 3, 'v'), (20, 1, 'l'), (370, 2, 'd'), (179, 4, 'w'), (124, 8, 'k'), (276, 5, 'o'), (27, 1, 'l'), (487, 3, 'o'), (106, 2, 'h'), (13, 1, 'p'), (1, 1, 'y'), (84, 2, 's'), (311, 4, 'a'), (11, 2, 'e'), (128, 2, 'e'), (329, 5, 'm'), (221, 3, 'o'), (30, 3, 'v'), (285, 3, 'u'), (202, 2, ' '), (86, 8, 's'), (384, 5, 's'), (19, 4, 'n'), (320, 3, 's'), (171, 2, 'v'), (477, 3, 'h'), (31, 4, 'd'), (301, 4, 'a'), (25, 1, 'r'), (421, 2, 's'), (256, 5, 't'), (12, 1, 'b'), (619, 2, ' '), (146, 3, 'a'), (17, 2, 'u'), (43, 2, 'd'), (538, 4, 'e'), (217, 2, 'r'), (53, 2, 's'), (591, 3, ' '), (175, 3, 'g'), (545, 3, 'm'), (126, 2, 'i'), (61, 3, 'l'), (1, 1, 'i'), (230, 3, 'c'), (339, 4, 'o'), (45, 1, 'g'), (112, 3, ' '), (94, 2, ' '), (143, 2, 'r'), (58, 2, 'a'), (531, 4, 'h'), (622, 3, 'n'), (532, 2, ' '), (705, 3, 'm'), (295, 2, 'e'), (29, 2, 'b'), (38, 2, 't'), (239, 5, 'd'), (106, 2, 'c'), (326, 2, 's'), (82, 4, 't'), (175, 2, 'n'), (57, 3, 'd'), (421, 3, 'a'), (549, 4, 'i'), (72, 2, 'l'), (220, 3, 'p'), (115, 2, 'o'), (262, 4, 'o'), (288, 6, 'd'), (49, 3, 'r'), (601, 2, 'i'), (49, 6, 't'), (228, 3, 'd'), (525, 3, 'e'), (145, 3, 'b'), (365, 2, 'r'), (303, 7, 's'), (575, 6, 'a'), (51, 1, 't'), (6, 3, 't'), (54, 3, 'r'), (559, 2, 'e'), (19, 1, 'p'), (374, 5, 's'), (253, 4, 'a'), (479, 2, 'o'), (51, 1, 'f'), (106, 2, 'e'), (180, 4, 'n'), (71, 2, 'u'), (416, 6, 'd'), (221, 2, 'i'), (322, 7, 'f'), (316, 2, 'o'), (508, 3, 'h'), (266, 3, 'f'), (512, 7, 'i'), (799, 4, ' '), (57, 8, 'c'), (435, 5, 'h'), (32, 3, 'o'), (26, 1, 'n'), (101, 4, 'r'), (712, 2, 'o'), (220, 3, 't'), (111, 3, 'f'), (9, 3, 'g'), (738, 3, 'g'), (175, 3, 'a'), (294, 2, 'g'), (73, 1, 'e'), (715, 6, 'u'), (509, 2, 'e'), (95, 2, 'e'), (178, 3, 'y'), (228, 3, 'o'), (53, 4, ' '), (552, 3, 'w'), (70, 2, 'c'), (308, 3, 't'), (37, 5, 'm'), (673, 8, 'g'), (415, 3, 't'), (131, 2, 'n'), (142, 4, 'b'), (456, 4, 'r'), (266, 2, 'i'), (809, 4, 'a'), (141, 3, 't'), (252, 4, 'b'), (70, 8, 'r'), (70, 8, 'h'), (127, 5, 's'), (43, 7, ' '), (804, 5, 'r'), (624, 3, 'd'), (533, 5, 'r'), (281, 7, 's'), (88, 6, 'a'), (98, 1, 'a'), (55, 3, 'a'), (529, 4, 'o'), (667, 4, 't'), (21, 5, 'n'), (44, 3, 'u'), (9, 4, 'b'), (420, 4, 'a'), (745, 3, 't'), (527, 5, 'i'), (75, 3, 'w'), (223, 6, 'o'), (25, 2, 's'), (259, 3, 'r'), (22, 2, 'r'), (5, 1, 'm'), (68, 3, 'e'), (414, 3, 'p'), (538, 5, 'e'), (219, 5, 't'), (36, 3, 't'), (27, 3, 'e'), (76, 2, 'o'), (477, 2, ' '), (637, 8, 's'), (723, 8, 'd'), (175, 4, 't'), (37, 3, 'c'), (118, 2, 'v'), (71, 3, 'a'), (463, 5, 'a'), (122, 3, 'o'), (371, 4, 'o'), (43, 2, ' '), (320, 3, 'a'), (4, 1, 'd'), (42, 3, 'u'), (54, 2, 'w'), (377, 4, 'p'), (209, 2, 'd'), (652, 4, ' '), (56, 4, 'v'), (234, 2, 't'), (947, 3, ' '), (385, 3, 'a'), (983, 3, 'l'), (144, 2, 'a'), (31, 1, 'y'), (11, 2, 'w'), (33, 3, 'n'), (288, 3, 's'), (237, 2, 'n'), (179, 2, 'h'), (128, 3, 't'), (593, 3, 'w'), (53, 3, 'v'), (102, 2, 'y'), (688, 3, 'a'), (122, 4, 'd'), (387, 3, ' '), (271, 3, 'g'), (582, 2, ' '), (57, 1, 'p'), (44, 2, 'a'), (499, 2, 's'), (16, 4, 'a'), (906, 2, 'e'), (800, 6, 't'), (13, 2, 't'), (85, 2, 'k'), (121, 6, 'h'), (350, 6, 'a'), (173, 3, 'r'), (968, 3, ' '), (33, 7, 'i'), (92, 2, 'r'), (6, 1, 'd'), (465, 2, 'e'), (234, 3, 'a'), (8, 1, 'd'), (811, 2, 's'), (882, 5, 'e'), (940, 3, 'h'), (8, 2, 'w'), (494, 4, 'h'), (115, 2, 'b'), (323, 4, 'g'), (205, 2, 'e'), (845, 5, 'a'), (441, 5, 'e'), (178, 3, 'm'), (5, 2, 'g'), (829, 2, 'd'), (634, 5, 'e'), (21, 2, 'c'), (5, 2, 'a'), (10, 4, ' '), (142, 2, 'i'), (369, 3, 'a'), (898, 3, 'e'), (1001, 6, 'b'), (857, 4, 'd'), (91, 4, 'l'), (35, 2, 'v'), (21, 2, 'e'), (233, 2, 'l'), (87, 2, 'o'), (144, 3, 'c'), (144, 2, 'u'), (224, 3, 'o'), (904, 3, 'o'), (618, 4, 'a'), (48, 2, 'y'), (715, 2, 'e'), (930, 1, 't'), (867, 4, 'n'), (18, 4, 'f'), (8, 2, ' '), (183, 2, 'm'), (45, 2, 't'), (913, 4, 'h'), (253, 3, 'n'), (557, 2, ' '), (35, 2, 'a'), (67, 4, 's'), (528, 3, 'u'), (560, 3, 'c'), (387, 8, 'i'), (85, 3, 'w'), (241, 5, 'i'), (955, 2, 'a'), (428, 3, ' '), (97, 3, 'l'), (904, 3, 'a'), (119, 3, 'w'), (335, 3, 'e'), (476, 3, 'u'), (676, 3, 'e'), (133, 2, 'x'), (57, 2, 'a'), (97, 2, 'e'), (363, 3, 'd'), (1, 1, 'r'), (503, 4, 's'), (220, 5, 'p'), (274, 2, 'm'), (674, 5, 'o'), (204, 2, 's'), (7, 1, 'l'), (56, 2, 's'), (239, 5, 'p'), (187, 3, 's'), (222, 4, 'o'), (431, 3, 'n'), (688, 6, 'm'), (275, 2, 't'), (164, 4, 'w'), (13, 2, 'n'), (237, 4, 's'), (309, 2, 'u'), (109, 3, 'c'), (65, 2, 'e'), (102, 2, 'a'), (7, 1, 'k'), (388, 5, 'o'), (857, 3, 'h'), (265, 6, 'g'), (290, 4, 'l'), (183, 2, 'i'), (588, 7, 'e'), (276, 5, 'h'), (204, 3, ' '), (779, 5, 'i'), (2, 1, 'k'), (217, 2, 'w'), (320, 3, 'e'), (31, 2, 'f'), (248, 2, 't'), (938, 3, 'n'), (728, 3, 'p'), (11, 1, 'k'), (935, 7, 'm'), (221, 6, 's'), (244, 4, 'w'), (54, 2, 'm'), (12, 3, 't'), (57, 6, 'm'), (197, 2, 'e'), (33, 5, 't'), (179, 2, 'l'), (518, 7, 'w'), (27, 4, 'h'), (750, 4, 'o'), (49, 1, 'g'), (4, 1, 't'), (67, 8, 'b'), (463, 5, 'n'), (33, 3, 'o'), (5, 1, 'l'), (141, 2, 'l'), (451, 2, 'k'), (261, 4, 't'), (207, 3, ' '), (234, 4, 'w'), (37, 2, 'l'), (487, 6, 'v'), (625, 4, 's'), (445, 3, 'h'), (182, 4, 's'), (71, 2, 'o'), (211, 2, 'h'), (248, 3, 'h'), (178, 2, 'd'), (245, 6, 'o'), (66, 4, 'i'), (482, 3, 's'), (23, 2, 'v'), (70, 3, 'h'), (604, 4, 's'), (43, 3, 'e'), (241, 5, 'n'), (427, 3, 'a'), (444, 3, 'g'), (319, 2, 'e'), (861, 2, 'l'), (387, 4, 't'), (186, 3, 'h'), (289, 2, ' '), (53, 2, 'b'), (170, 2, 'i'), (3, 1, 'v'), (53, 3, 's'), (837, 5, 'u'), (314, 3, 'b'), (790, 3, 'e'), (116, 3, 'm'), (225, 4, 'a'), (189, 3, 'o'), (148, 3, 'i'), (75, 5, 'a'), (31, 1, 'm'), (851, 4, 'g'), (767, 4, 't'), (309, 8, 'h'), (36, 3, 's'), (349, 8, 'o'), (577, 8, ' '), (102, 4, 'i'), (750, 4, 'f'), (334, 3, 'd'), (17, 2, 's'), (259, 7, ' '), (75, 6, 's'), (347, 2, 'r'), (873, 3, 't'), (472, 6, 'r'), (87, 2, 'p'), (7, 1, 'c'), (286, 5, 'p'), (84, 2, 't'), (628, 5, 'r'), (161, 3, 'h'), (203, 4, 'g'), (856, 2, 'n'), (614, 4, 's'), (251, 2, 'n'), (47, 3, 'i'), (61, 2, 'c'), (18, 1, 'u'), (541, 4, 'm'), (300, 3, 'o'), (993, 3, 'm'), (33, 4, 'u'), (464, 2, 'i'), (373, 3, 'l'), (4, 2, 't'), (203, 5, 'm'), (73, 2, 'n'), (134, 3, 'e'), (558, 3, 'g'), (56, 2, 'e'), (671, 8, 'i'), (555, 4, 'i'), (910, 7, 'a'), (352, 3, 'h'), (197, 3, 'i'), (21, 3, 'h'), (16, 3, 's'), (30, 5, 'a'), (158, 3, 'u'), (252, 4, ' '), (463, 2, 'l'), (376, 4, 'f'), (279, 2, ' '), (102, 3, 'i'), (1009, 3, 'r'), (114, 4, 'm'), (522, 5, 'm'), (94, 2, 'h'), (35, 1, 'p'), (1, 1, 'y'), (445, 2, 'i'), (227, 2, ' '), (130, 3, 't'), (120, 3, 'g'), (963, 2, 'v'), (30, 3, 'l'), (88, 3, 'o'), (164, 3, ' '), (281, 4, 'h'), (302, 3, 'm'), (539, 4, 's'), (59, 2, 'b'), (110, 2, 'u'), (168, 2, 'f'), (81, 3, 't'), (564, 6, 'c'), (795, 8, 'e'), (201, 7, 'e'), (1, 0, 'd')]\n"
     ]
    }
   ],
   "source": [
    "tok = LZ77_encode(txt1, 1024, 8)\n",
    "print(tok)"
   ]
  },
  {
   "cell_type": "code",
   "execution_count": 68,
   "metadata": {},
   "outputs": [
    {
     "name": "stdout",
     "output_type": "stream",
     "text": [
      "[(0, 'g'), (0, 'r'), (0, 'u'), (0, 'n'), (0, 'l'), (0, 'i'), (0, 'c'), (0, 'h'), (0, ' '), (3, 'n'), (0, 't'), (0, 'e'), (2, 's'), (7, 'h'), (6, 'e'), (0, 'd'), (9, 'e'), (2, ' '), (0, 's'), (6, 'c'), (8, ' '), (16, 'u'), (2, 'c'), (21, 's'), (12, 'i'), (4, 'e'), (17, 'i'), (1, 'e'), (4, 's'), (14, 'a'), (0, 'f'), (11, ' '), (0, 'a'), (5, 's'), (9, 's'), (0, 'o'), (5, 'i'), (16, ' '), (19, 'i'), (11, 'u'), (15, 'r'), (11, 'e'), (18, 'b'), (12, 'a'), (0, 'm'), (42, 'r'), (9, 'm'), (6, 't'), (9, 'f'), (12, 's'), (42, 'm'), (9, 'g'), (12, 'h'), (33, 'l'), (32, 'd'), (15, ' '), (25, 'n'), (12, ' '), (0, 'w'), (25, 't'), (12, 'r'), (58, 'k'), (33, 'r'), (2, 'i'), (61, 'e'), (9, 'n'), (20, 'h'), (32, 'a'), (3, 's'), (19, 'c'), (8, 'l'), (36, 's'), (19, ' '), (45, 'i'), (32, 'e'), (6, 'n'), (12, 'm'), (9, 'w'), (36, 'r'), (42, ' '), (50, ' '), (59, 'a'), (18, 'a'), (3, 'f'), (9, 'b'), (25, 'd'), (12, 'n'), (35, 'e'), (48, 'e'), (4, ' '), (0, 'v'), (15, 'l'), (52, 'u'), (46, ' '), (59, 'i'), (5, 'l'), (58, 'v'), (79, 'h'), (33, 'n'), (16, 'e'), (90, 'd'), (56, 'n'), (33, 'c'), (8, 'm'), (48, 't'), (33, 'g'), (19, 'b'), (50, 'u'), (14, 'e'), (9, 'd'), (6, 'r'), (12, 'k'), (11, 'o'), (18, 'w'), (57, 's'), (109, 'n'), (0, 'k'), (73, 'w'), (15, 'd'), (61, 'h'), (36, 'l'), (42, 'n'), (35, 'i'), (14, ' '), (76, ' '), (2, 'a'), (70, 'h'), (61, ' '), (31, 'o'), (5, 'g'), (58, 'u'), (4, 'd'), (9, 'i'), (45, ' '), (0, 'j'), (99, 'u'), (63, ' '), (100, 'm'), (9, 'j'), (136, 'a'), (18, 'd'), (81, 'j'), (33, 'h'), (2, 'e'), (73, 'g'), (50, 't'), (33, 't'), (42, 't'), (58, 'e'), (18, 's'), (67, ' '), (74, 't'), (27, 'n'), (6, 'g'), (87, ' '), (117, 'u'), (2, 'z'), (155, 'm'), (99, 'n'), (37, 'c'), (8, 'e'), (90, 'u'), (132, ' '), (28, 'r'), (33, 'd'), (155, 'w'), (79, 't'), (155, 'u'), (134, 'e'), (64, 'k'), (33, ' '), (1, 'r'), (10, 'l'), (67, 's'), (9, 'h'), (99, 'd'), (9, 'z'), (3, ' '), (0, 'b'), (105, 'e'), (90, 'v'), (36, 'n'), (66, 'u'), (90, 'a'), (90, 'g'), (53, 'o'), (2, 't'), (149, 'r'), (177, 'u'), (18, 'f'), (33, 'm'), (6, 'l'), (56, 'b'), (12, 'g'), (159, ' '), (99, ' '), (100, 'n'), (9, 'k'), (76, 'd'), (61, 't'), (106, 'e'), (90, 't'), (25, 'l'), (0, 'z'), (10, 'e'), (104, 'e'), (162, 'n'), (38, 'w'), (63, 'd'), (9, 'v'), (182, ' '), (197, ' '), (99, 'g'), (186, 'r'), (154, 'e'), (90, 's'), (57, 'e'), (43, 'r'), (33, 'u'), (32, 'm'), (48, ' '), (204, 'u'), (91, 'o'), (2, 'k'), (36, 'm'), (45, 'e'), (4, 'h'), (60, ' '), (219, 'f'), (28, 'n'), (225, 'm'), (155, 'o'), (8, 'n'), (58, 'z'), (59, 'e'), (6, 'f'), (12, 'l'), (17, 'm'), (0, 'p'), (31, 'a'), (163, 'e'), (150, 'o'), (129, 'r'), (55, 'a'), (19, 's'), (17, 'r'), (9, 'u'), (4, 't'), (128, 'i'), (233, 'e'), (90, 'n'), (67, 't'), (9, 'r'), (12, 'c'), (8, 't'), (9, 'a'), (134, 'p'), (5, 'a'), (11, 'z'), (58, 'w'), (137, 'a'), (179, 'e'), (18, 'e'), (18, 'v'), (61, 'k'), (5, 'e'), (6, 'd'), (12, 't'), (58, 'd'), (15, 's'), (52, 'e'), (31, 'u'), (71, ' '), (152, ' '), (217, 'r'), (110, 'e'), (19, 't'), (36, ' '), (156, 'h'), (26, 'r'), (155, 'h'), (54, 't'), (10, 'g'), (247, 'n'), (38, 'd'), (56, 'k'), (182, 's'), (3, 'l'), (125, 'o'), (4, 'k'), (237, ' '), (135, 'u'), (277, 'u'), (73, 's'), (87, 'a'), (113, 'r'), (85, 'u'), (16, 'd'), (87, 'b'), (2, 'o'), (36, 'k'), (78, 'e'), (4, 'n'), (256, 'u'), (124, 'n'), (252, ' '), (164, 'a'), (100, ' '), (16, 'i'), (269, 'a'), (226, 'n'), (297, 'd'), (197, 'b'), (300, 'o'), (117, ' '), (219, 's'), (276, 'r'), (85, 'r'), (60, 'e'), (216, 't'), (126, 's'), (19, 'e'), (78, 'a'), (144, 'n'), (271, 'g'), (87, 'u'), (262, 'r'), (110, 'i'), (50, 'e'), (134, 't'), (3, 'c'), (255, 'i'), (230, ' '), (179, 'u'), (300, 'm'), (87, 's'), (116, ' '), (309, 'e'), (322, 'm'), (271, 's'), (237, 'l'), (127, 'a'), (31, 't'), (160, 'h'), (284, 'e'), (2, 'f'), (143, 'r'), (87, 'e'), (90, 'm'), (159, 'e'), (317, ' '), (8, 'a'), (187, 'e'), (184, 'r'), (262, 'i'), (32, 'z'), (178, 't'), (33, 'k'), (11, 'v'), (121, 'l'), (128, 'n'), (103, 'h'), (39, 'c'), (255, ' '), (327, 'e'), (221, 's'), (56, 'w'), (137, 'v'), (182, 'n'), (36, 't'), (155, 'd'), (87, 'n'), (133, 'm'), (226, 'r'), (78, 'i'), (12, 'd'), (128, 'g'), (282, ' '), (81, 'm'), (221, 'e'), (76, 'e'), (134, 'b'), (237, 'e'), (262, 'n'), (212, 'u'), (163, 'a'), (179, 'l'), (87, 'k'), (87, 'd'), (166, 'o'), (353, ' '), (217, ' '), (277, 'i'), (96, 'e'), (189, ' '), (91, 'e'), (13, 'c'), (161, 'u'), (337, 'd'), (56, 's'), (151, 'a'), (101, 'e'), (190, 'a'), (74, 'l'), (15, 'n'), (11, 'a'), (31, 'e'), (5, ' '), (6, 'm'), (17, 's'), (245, 'a'), (54, 'e'), (304, 's'), (179, 'r'), (319, 't'), (260, 'e'), (303, ' '), (268, 'w'), (171, 'd'), (128, 'd'), (111, 'e'), (117, 't'), (79, ' '), (363, 'h'), (133, 'n'), (256, 'l'), (5, 'z'), (178, 'n'), (254, 'k'), (6, 's'), (109, 'r'), (256, 'r'), (220, 'i'), (75, 'r'), (6, 'k'), (33, 's'), (323, 'n'), (333, 'u'), (386, 'r'), (311, ' '), (262, 's'), (30, 'f'), (11, 'i'), (1, 't'), (416, 'n'), (90, 'e'), (150, 'i'), (124, 'g'), (50, 'p'), (126, 'c'), (8, 's'), (235, 'i'), (322, ' '), (265, 'u'), (132, 'i'), (444, 'e'), (9, 'o'), (179, ' '), (79, 'a'), (4, 'g'), (77, 'a'), (2, 'm'), (237, 'a'), (308, 'e'), (381, ' '), (226, 'h'), (34, 'p'), (25, 's'), (58, 's'), (25, ' '), (466, 'l'), (127, 'p'), (468, ' '), (19, 'a'), (456, ' '), (128, 'm'), (221, 'k'), (429, 'e'), (43, 'e'), (113, 'n'), (283, ' '), (36, 'd'), (128, 'w'), (372, ' '), (420, 'e'), (18, 'm'), (57, 'u'), (460, ' '), (316, 'd'), (2, 'u'), (7, 'k'), (52, 'a'), (458, 'r'), (225, 'e'), (278, 'u'), (163, 'j'), (288, 'i'), (171, 's'), (470, 'e'), (125, 's'), (40, 'c'), (315, 'v'), (211, 's'), (14, 'i'), (394, 'r'), (328, 'n'), (28, ' '), (338, ' '), (128, 'u'), (248, 'e'), (242, 'r'), (1, 'l'), (72, 'e'), (134, 'h'), (176, 'e'), (144, 'i'), (384, ' '), (212, 'o'), (327, 'k'), (79, 'p'), (128, 's'), (14, 'r'), (106, ' '), (28, 'g'), (371, 'i'), (469, 't'), (3, 'h'), (394, 'h'), (4, 'e')]\n"
     ]
    },
    {
     "data": {
      "text/plain": [
       "True"
      ]
     },
     "execution_count": 68,
     "metadata": {},
     "output_type": "execute_result"
    }
   ],
   "source": [
    "txt = \"grunlich unterschied er sich durch seine eigenschaft als solid situierter beamter mit festem gehalt die eine weitere karriere nicht ausschloss mit einem worte es war auf beiden seiten viel guter wille vorhanden die nachmittagsbesuche direktor weinschenks wiederholten sich in rascher folge und im januar dem januar des jahres gestattete er sich mit einigen kurzen mannlichen und geraden worten um erika grunlichs hand zu bitten von nun an gehorte er zur familie begann an den kindertagen teilzunehmen und ward von den angehorigen seiner braut mit zuvorkommenheit aufgenommen ohne zweifel empfand er sofort dass er unter ihnen nicht recht am platze war aber er verkleidete dies gefuhl mit einer desto kuhneren haltung und die konsulin onkel justus senator buddenbrook wenn auch nicht gerade die damen buddenbrook aus der breiten strasse waren gegenuber diesem tuchtigen buromenschen diesem gesellschaftlich unerfahrenen manne der harten arbeit zu taktvoller nachsicht bereit sie war vonnoten denn immer wieder galt es mit einem belebenden und ablenkenden worte eine stille zu verscheuchen die sich an der familientafel im esssaale ausbreitete wenn etwa der direktor sich in allzu neckischer art mit erikas wangen und armen beschaftigte wenn er sich gesprachsweise erkundigte ob orangemarmelade eine mehlspeise sei mehlschpeis sagte er mit kecker betonung oder wenn er der meinung ausdruck gab romeo und julia sei ein stuck von schiller dinge die er unter sorglosem handereiben den oberkorper schrag gegen die stuhllehne\"\n",
    "tok = LZ78_encode(txt);\n",
    "print(tok);\n",
    "txt == LZ78_decode(tok)"
   ]
  },
  {
   "cell_type": "code",
   "execution_count": 69,
   "metadata": {},
   "outputs": [
    {
     "name": "stdout",
     "output_type": "stream",
     "text": [
      "['n', 'o', ' ', 'n', 'o', ' ', 'd', 'e', ' ', 'c', 'a', 'p', ' ', 'm', 'a', 'n', 'e', 'r', 'a', ' ', 'h', 'a', 'v', 'i', 'a', ' ', 'p', 'a', 't', 'i', 't', ' ', 't', 'e', 'r', 'r', 'i', 'b', 'l', 'e', 'm', 'e', 'n', 't', ' ', 'a', 'q', 'u', 'e', 'l', 'l', ' ', 'e', 's', 'p', 'e', 'c', 't', 'a', 'c', 'l', 'e', ' ', 'd', 'e', 'l', ' ', 'c', 'a', 'r', 'r', 'e', 'r', (68, 4), 'm', 'e', 'n', 'd', 'i', 'z', 'a', 'b', 'a', 'l', ' ', 'l', 'e', 's', 'b', 'o', 'r', 'r', 'o', 'n', 'a', 'v', 'a', ' ', 'c', 'o', 'm', (17, 4), 'c', 'e', 'n', 'a', (50, 7), 'f', 'e', ' ', 'c', 'o', 'n', 'c', 'e', 'r', 't', ' ', 'm', 'a', 'l', ' ', 'p', 'e', 'r', (8, 6), 'r', 'e', 'f', 'e', 'r', 'i', 'a', ' ', 'l', (53, 4), 'n', 'v', 'e', 'r', 's', (50, 6), 's', 'e', 'u', ' ', 'c', 'o', 's', 'i', ' ', 'j', 'e', 's', 'u', 'i', 't', 'a', ' ', 'o', ' ', 'e', 'l', 's', ' ', 'p', 'a', 'n', 'o', 'r', 'a', 'm', 'e', 's', ' ', 'o', 'p', 't', 'i', 'm', 'i', 's', 't', 'e', 's', (137, 4), 'l', 'a', ' ', 't', (195, 5), 'u', 'l', 'i', (116, 5), 's', ' ', 'd', 'a', 'l', 'e', 's', 'h', 'o', 'r', 'e', 's', (143, 4), 'p', 'r', 'e', 'n', 'g', 'u', 'e', ' ', 'q', 'u', 'e', ' ', 'e', 'n', 't', 'r', (6, 4), ' ', 's', 'a', 'l', 'v', 'a', 'd', 'o', 'r', ' ', 'p', 'u', 'n', 't', 'i', ' ', 'i', ' ', (237, 4), 'h', 'i', (272, 7), 'u', 'n', ' ', 'a', 'b', 'i', 's', 'm', 'e', (256, 4), 'a', 'n', 't', 'o', (73, 5), ' ', 'p', 'o', 'd', 'i', 'a', ' ', 's', 'e', 'r', ' ', 'v', 'e', 'r', 'i', 't', 'a', (294, 8), 'a', ' ', 't', 'e', 'o', (203, 4), 'a', 'b', 's', 'u', 'r', 'd', 'a', (359, 4), (349, 4), (360, 6), (325, 6), 'r', 'i', 't', ' ', 'e', 'l', (133, 6), 'l', ' ', 'd', 'o', 'm', 'i', (303, 5), (39, 4), (294, 4), 'o', 's', ' ', 'e', 'i', 'x', (38, 5), (212, 6), 'v', 'i', 'd', 'u', (284, 5), 's', 'e', (342, 5), (289, 7), 'l', 'e', 's', (18, 4), 'e', 's', (449, 4), 's', ' ', 'f', 'i', 'n', 'e', 's', ' ', 'i', (23, 8), 'e', 's', ' ', 'u', 'n', 'g', (13, 4), 'a', 'c', 'u', 'r', 'a', (268, 4), 'o', 'h', (165, 7), (51, 8), (133, 7), 'n', 'o', (284, 8), 'i', 'a', (273, 4), 'm', 'e', 'l', 'r', 'o', 's', 'a', 'd', (147, 6), (421, 4), (171, 7), (399, 4), 'i', 'n', 's', 't', 'i', 'n', 't', (53, 4), 's', (290, 6), 'd', (212, 5), (259, 4), 'f', 'i', 'n', 's', ' ', (369, 8), (296, 6), (35, 6), 'p', 'a', 's', 's', 'a', 't', ' ', 't', 'o', 't', (337, 4), (210, 5), (206, 4), 'n', 's', 'e', ' ', 'p', 'e', 'n', 's', 'a', 'r', (119, 4), 'l', 'a', ' ', 'n', 'e', 'c', 'e', 's', 's', (335, 6), 'b', 's', 'o', 'l', 'u', 't', (95, 4), ' ', 'c', 'e', 'r', 'c', 'a', 'r', (58, 5), 'd', 'o', 'n', 'a', ' ', 'h', 'o', 'n', 'r', (159, 4), (151, 4), 'l', 'e', 's', 't', 'i', 'm', (250, 6), 'a', ' ', 'p', 'o', 'r', (181, 5), 's', 'e', (208, 4), (18, 4), 'm', 'a', 't', 'e', 'i', 'x', 'a', ' ', 'c', 'r', 'e', 'u', 'r', (506, 6), 'p', 'o', 't', (441, 4), (155, 6), 'f', 'e', 't', ' ', 't', 'a', 'r', 'd', (228, 6), 'r', 'a', ' ', 'j', 'a', ' ', 'i', 'm', 'p', 'o', 's', 's', 'i', 'b', 'l', (48, 6), 'e', 'l', 'l', ' ', 'e', 'n', 'a', 'm', (213, 5), 'n', 'i', 'n', 'g', 'u', (294, 8), (294, 6), 'f', 'e', (496, 4), 'n', 'y', 's', (46, 5), 'm', 'e', (462, 5), (231, 8), (201, 8), 'a', 'm', 'e', 'n', 't', ' ', 'c', 'a', 's', 't', 'a', ' ', 'i', (30, 5), 'i', 'd', 'e', 'a', ' ', 't', 'e', 'r', 'r', (105, 5), 'l', 'i', (362, 4), 'f', 'o', 'r', (61, 4), 'e', 'l', (244, 4), 'v', (121, 4), (325, 4), 'u', 'n', ' ', 'f', 'i', 'l', 'a', 'b', 'e', 'r', 'q', 'u', 'i', ' ', 'e', 's', ' ', 'r', 'u', 'b', 'o', 'r', 'i', 't', 'z', (44, 4), (288, 4), 'o', 'n', 'f', 'e', 's', 's', 'a', 'r', 's', 'h', 'o', ' ', 'a', ' ', 's', 'i', (246, 7), (82, 4), 'o', (213, 5), (112, 4), 'c', 'o', 's', 'a', ' ', 'e', 's', 's', 'e', 'n', 'c', 'i', 'a', 'l', (19, 8), (238, 5), 'r', 'e', 's', 'c', 'i', 'n', 'd', (137, 5), (496, 4), 'a', ' ', 'a', 's', 's', 'o', 'l', 'i', 'r', (138, 4), (213, 4), 'd', 'e', 's', 'i', 't', 'j', (111, 4), 'a', 'q', 'u', 'e', (196, 4), 't', 'e', 'm', 'o', 'r', ' ', 't', 'a', 'n', ' ', 'i', 'n', 't', 'i', 'm', 'a', ' ', 'n', 'o', ' ', 's', 'a', 't', 'r', 'e', 'v', 'i', ' ', (374, 4), 'n', 'i', 'f', (40, 4), 'r', 'l', 'a', ' ', 'a', (309, 7), 'f', 'i', 'n', 's', (190, 4), (452, 4), 'v', 'a', ' ', 'v', 'e', 'r', 'g', 'o', 'n', 'y', (194, 8), 's', 'u', 'l', 't', 'a', 'r', (193, 5), 'c', 'a', 'p', ' ', 'm', 'e', 't', 'g', 'e', (360, 8), (360, 6), (201, 4), 'e', 'x', 'c', 'e', 's', 's', 'i', 'v', (335, 6), 'p', 'u', 'd', 'o', 'r', 'o', 's', (232, 6), 'l', (503, 4), 'v', 'a', ' ', 'p', 'o', 'r', (43, 8), (43, 8), 'n', 't', ' ', 'i', 'n', 'q', 'u', 'i', 'e', 't', 'a', 'n', 't', (195, 5), 'l', 'l', (150, 4), 't', (124, 4), 'l', 'e', 's', 'p', 'i', 'r', 'i', 't', 'i', 's', 'm', (496, 4), 'a', 'n', (118, 8), (118, 6), 'a', 'b', 'a', 'n', (178, 4), (267, 4), 's', 'e', 'u', ' ', 'a', 'm', 'i', 'c', (198, 4), 's', 'e', 'n', 't', 'i', ' ', 'm', 'e', (502, 7), 'a', 'i', ' ', 'd', 'o', 'm', 'i', 'n', 'a', 't', ' ', 'p', 'e', 'l', ' ', 'd', 'u', 'b', 't', (215, 4), 'r', 's', 'e', 'c', 'a', 'd', (146, 4), 's', (301, 4), 'c', (270, 4), (169, 8), 'c', 'a', 'm', 'b', 'r', 'a', ' ', 'i', (508, 4), 'v', (290, 4), 'e', (405, 5), 'i', 'd', 'e', 'a', ' ', 'a', 'r', 'd', 'i', 'd', (292, 5), 'i', 't', 'a', 'b', 'l', 'e', (196, 6), 'm', 'p', 'r', 'o', 'p', 'i', (306, 4), 'l', 'l', (369, 4), 'v', 'o', 'l', 'i', 'a', ' ', 'v', 'i', 'u', 'r', 'e', (138, 5), 'a', 'm', 'b', (222, 8), (407, 4), 'r', 'a', (245, 4), 'l', 'l', 'i', 't', 'a', (234, 4), 'c', 'i', 'd', 'i', (173, 5), 'l', 'e', 'n', 'd', 'e', 'm', (139, 7), 'c', 'a', 'i', 'g', 'u', 'd', (390, 5), 'l', 'a', ' ', 't', 'a', 'r', 'd', 'a', ' ', 'f', 'a', 'r', 'i', (29, 5), 'p', 'r', 'o', 'v', 'a', ' ', 'o', 'r', 'g', 'a', 'n', 'i', 't', 'z', 'a', ' ', 't', 'o', 't', ' ', 'u', 'n', (23, 4), 'g', 'r', 'a', (66, 4), 'n', 'i', (42, 4), (56, 4), 'l', ' ', (297, 4), 'a', ' ', 'b', 'e', 'u', (19, 4), (202, 4), 'm', 'i', 'c', (67, 5), 'c', 'u', 'r', (81, 5), 'p', 'e', 'r', 'd', 'r', 'e', (329, 6), 'n', 'y', ' ', 'i', ' ', 'd', 'e', 's', 'p', 'r', 'e', 's', (8, 8), (382, 6), 'p', 'e', 'n', 's', 'a', (388, 4), 'l', 'o', (149, 4), (28, 8), (405, 8), (405, 5), 's', 'e', 's', 'v', (484, 4), (383, 8), (383, 4), 'o', 'h', (275, 4), 'd', 'e', ' ', 'c', 'a', 'p', ' ', 'm', 'a', 'n', (32, 4), 'n', 'o', ' ', 'p', 'o', 'd', 'i', 'a', ' ', 'f', 'e', 'r', 'h', 'o', (15, 4), 'h', 'a', 'v', (321, 5), (18, 7), (469, 8), 'm', 'o', 'r', (279, 4), ' ', 'g', 'u', (257, 4), (173, 4), (355, 4), 'c', 'o', 'm', 'e', 't', 'r', 'e', ' ', 's', 'e', 'm', 'b', 'l', 'a', (386, 4), 'n', 'd', 'i', 'g', 'n', (336, 5), 'n', (332, 6), 'f', 'o', 's', ' ', 'a', ' ', 'f', (204, 4), ' ', 'b', 'e', (166, 8), (166, 8), 'n', 't', 'i', ' ', 'u', 'n', (190, 4), 's', 'g', 'a', 'r', 'r', 'i', 'f', 'a', 'n', 'c', (240, 5), ' ', 'f', 'r', 'e', 'd', ' ', 'e', 's', 'p', 'a', 'n', 't', 'o', 's', 'e', 's', ' ', 'i', (46, 4), 's', 'e', ' ', 's', 'a', 'b', 'e', 'r']\n"
     ]
    },
    {
     "data": {
      "text/plain": [
       "True"
      ]
     },
     "execution_count": 69,
     "metadata": {},
     "output_type": "execute_result"
    }
   ],
   "source": [
    "txt = \"no no de cap manera havia patit terriblement aquell espectacle del carrer de mendizabal lesborronava com lescena del cafe concert mal per mal preferia la conversa del seu cosi jesuita o els panorames optimistes de la tia paulina des daleshores comprengue que entre en salvador punti i ell hi havia un abisme espantos com podia ser veritat aquella teoria absurda no era cap mal esperit el que el dominava era el cos eixerit de la vidua la seva conversa les seves mans fines i les seves ungles acurades oh aquelles mans el que no comprenia en melrosada era per que el seu instint no shavia despertat fins aleshores com havia passat tota una vida sense pensar en la necessitat absoluta de cercar una dona honrada que lestimes i la por era sempre la mateixa creure que potser havia fet tard que era ja impossible que ell enamores ningu en melrosada feia anys que menava una vida absolutament casta i una idea terrible li perforava el cervell com un filaberqui es ruboritzava de confessarsho a si mateix pero era una cosa essencial una cosa imprescindible per a assolir el que desitjava aquesta temor tan intima no satrevi a manifestarla a ningu fins es donava vergonya de consultarho a cap metge en melrosada era excessivament pudoros pero la seva por era excessivament inquietant aquella nit de lespiritisme quan en melrosada abandona el seu amic es senti mes que mai dominat pel dubte corsecador es tanca a la seva cambra i li vingue una idea ardida veritablement impropia dell no volia viure mes amb aquella intranquillitat decidi que lendema a la caiguda de la tarda faria la prova organitza tot un programa aniria a tal banda beuria una mica procuraria perdre el seny i despres despres quan pensa en lo de despres en melrosada sesvera mes que mai oh no de cap manera no podia ferho no havia de ferho el seu amor len guardaria ell cometre semblant indignitat ni que fos a fi de be en melrosada senti unes esgarrifances de fred espantoses i sense saber\"\n",
    "tok = LZSS_encode(txt,4,512,8);\n",
    "print(tok);\n",
    "txt == LZSS_decode(tok)"
   ]
  },
  {
   "cell_type": "code",
   "execution_count": 71,
   "metadata": {},
   "outputs": [
    {
     "name": "stdout",
     "output_type": "stream",
     "text": [
      "[2, 5, 18, 9, 4, 26, 0, 22, 8, 9, 3, 8, 0, 18, 8, 5, 0, 9, 18, 37, 15, 0, 35, 1, 17, 13, 9, 14, 7, 12, 24, 0, 20, 53, 55, 17, 5, 12, 1, 16, 27, 52, 41, 14, 19, 45, 62, 52, 20, 15, 17, 0, 19, 39, 0, 4, 15, 3, 69, 75, 5, 21, 5, 75, 16, 12, 5, 1, 18, 5, 4, 31, 9, 77, 31, 8, 1, 19, 31, 92, 0, 12, 9, 11, 61, 55, 69, 0, 89, 91, 93, 0, 33, 43, 24, 15, 20, 66, 22, 9, 6, 40, 19, 20, 17, 14, 94, 76, 45, 39, 75, 1, 14, 95, 18, 1, 28, 0, 119, 20, 0, 13, 20, 18, 102, 7, 45, 136, 14, 9, 40, 143, 145, 147, 149, 45, 9, 31, 120, 12, 95, 17, 101, 134, 0, 14, 15, 102, 38, 40, 139, 141, 111, 77, 40, 80, 82, 74, 41, 112, 60, 125, 75, 111, 60, 13, 140, 14, 0, 101, 116, 15, 13, 40, 161, 22, 163, 95, 146, 35, 0, 166, 178, 75, 189, 191, 193, 102, 8, 196, 40, 123, 77, 120, 102, 12, 15, 15, 11, 51, 7, 211, 116, 87, 46, 120, 65, 37, 78, 178, 192, 1, 4, 4, 60, 18, 93, 202, 40, 136, 95, 92, 108, 242, 193, 2, 218, 193, 7, 130, 43, 244, 99, 5, 207, 232, 174, 213, 20, 164, 37, 5, 40, 168, 256, 32, 258, 168, 173, 103, 43, 170, 219, 107, 109, 132, 229, 197, 76, 100, 102, 4, 1, 55, 269, 104, 18, 45, 203, 36, 4, 42, 127, 17, 25, 95, 77, 194, 199, 15, 137, 87, 131, 213, 22, 0, 85, 5, 192, 178, 79, 81, 83, 0, 2, 20, 19, 19, 87, 224, 116, 42, 132, 92, 102, 3, 201, 318, 40, 2, 106, 137, 280, 32, 194, 22, 290, 45, 15, 2, 21, 9, 230, 318, 320, 227, 37, 1, 309, 276, 33, 66, 233, 15, 264, 168, 150, 15, 4, 14, 101, 128, 94, 54, 283, 194, 273, 340, 118, 120, 66, 256, 120, 7, 8, 102, 111, 25, 193, 146, 241, 193, 336, 312, 322, 17, 19, 191, 131, 256, 384, 102, 276, 193, 12, 220, 309, 134, 93, 12, 6, 280, 382, 190, 29, 79, 263, 12, 318, 288, 410, 399, 0, 358, 95, 125, 399, 15, 309, 13, 74, 5, 15, 86, 75, 78, 175, 95, 78, 340, 68, 131, 111, 39, 48, 227, 75, 65, 225, 1, 416, 314, 130, 309, 442, 87, 43, 291, 52, 43, 437, 9, 13, 386, 432, 422, 229, 263, 138, 78, 80, 369, 102, 22, 61, 412, 121, 90, 240, 260, 31, 388, 44, 283, 179, 316, 182, 16, 450, 296, 131, 51, 145, 1, 223, 66, 314, 312, 7, 1, 7, 5, 197, 68, 0, 6, 182, 268, 336, 13, 75, 10, 1, 3, 11, 487, 164, 304, 274, 280, 330, 282, 2, 507, 509, 111, 295, 14, 130, 187, 117, 229, 14, 3, 12, 20, 29, 432, 215, 476, 455, 43, 16, 101, 476, 89, 507, 198, 37, 20, 16, 16, 15, 115, 319, 102, 194, 444, 412, 311, 68, 43, 468, 498, 352, 287, 417, 192, 525, 213, 17, 115, 220, 222, 324, 428, 55, 28, 90, 183, 372, 46, 128, 346, 147, 280, 6, 51, 95, 251, 130, 23, 102, 424, 129, 324, 270, 259, 273, 100, 95, 25, 312, 474, 594, 169, 171, 348, 212, 236, 265, 498, 51, 111, 220, 137, 512, 111, 16, 349, 168, 330, 147, 486, 15, 6, 405, 256, 599, 150, 130, 417, 349, 486, 314, 1, 6, 389, 170, 611, 45, 93, 243, 253, 30, 622, 604, 16, 60, 21, 140, 90, 95, 544, 611, 464, 480, 187, 45, 150, 96, 98, 502, 300, 39, 55, 599, 340, 12, 247, 195, 516, 110, 78, 581, 61, 4, 454, 650, 181, 652, 264, 282, 491, 86, 153, 66, 25, 324, 29, 106, 378, 19, 6, 263, 574, 304, 29, 60, 658, 597, 591, 272, 433, 331, 100, 86, 0, 624, 198, 621, 638, 43, 599, 397, 596, 192, 628, 422, 235, 336, 696, 228, 494, 254, 116, 604, 291, 282, 361, 95, 51, 6, 529, 312, 3, 40, 427, 228, 168, 69, 635, 464, 141, 397, 567, 509, 570, 720, 545, 571, 283, 377, 379, 602, 41, 467, 104, 1, 702, 221, 419, 541, 417, 135, 0, 742, 6, 444, 115, 304, 542, 619, 322, 192, 53, 136, 730, 245, 102, 97, 499, 182, 273, 139, 774, 313, 433, 582, 460, 552, 478, 76, 456, 533, 475, 60, 226, 200, 17, 509, 394, 236, 731, 128, 318, 60, 488, 762, 148, 99, 34, 36, 468, 132, 222, 413, 37, 364, 19, 35, 639, 556, 533, 791, 496, 89, 15, 24, 131, 270, 711, 105, 5, 631, 226, 680, 731, 528, 81, 509, 371, 104, 11, 130, 61, 324, 649, 40, 7, 17, 374, 773, 786, 180, 83, 43, 125, 258, 112, 320, 19, 841, 562, 326, 38, 15, 639, 336, 493, 97, 450, 776, 429, 456, 478, 791, 575, 753, 291, 631, 312, 131, 38, 797, 56, 546, 562, 228, 762, 730, 283, 845, 22, 192, 6, 845, 457, 722, 843, 60, 597, 90, 1, 86, 43, 732, 17, 100, 52, 324, 314, 15, 482, 192, 123, 610, 309, 619, 786, 400, 205, 221, 457, 256, 161, 217, 57, 748, 785, 314, 340, 110, 45, 849, 74, 43, 515, 424, 14, 900, 405, 446, 9, 686, 257, 826, 599, 636, 711, 219, 221, 489, 443, 212, 869, 104, 78, 801, 725, 513, 642, 258, 19, 55, 319, 18, 55, 170, 309, 544, 226, 581, 701, 628, 78, 588, 680, 443, 336, 213, 282, 194, 831, 758, 76, 597, 977, 938, 748, 549, 183, 599, 726, 51, 865, 351, 856, 18, 884, 856, 512, 486, 682, 66, 291, 46, 220, 403, 55, 492, 494, 393, 336, 130, 428, 103, 663, 877, 400, 368, 512, 136, 288, 3, 616, 558, 336, 420, 102, 388, 8, 617, 328, 34, 552, 667, 194, 314, 588, 542, 856, 693, 145, 24, 403, 936, 970, 425, 574, 104, 80, 905, 928, 26, 87, 701, 80, 166, 986, 604, 397, 643, 91, 646, 1038, 1040, 67, 1038, 398, 389, 131, 47, 166, 82, 228, 520, 74, 753, 823, 102, 25, 3, 1, 147, 261, 215, 104, 515, 1047, 265, 40, 50, 473, 50, 399, 43, 486, 753, 125, 309, 286, 1039, 458, 183, 29, 186, 1037, 552]\n",
      "True\n"
     ]
    }
   ],
   "source": [
    "txt = \"besides which she is so charmingly ugly relapsing into languor the doctor ever pleased with what was likely to please his young wife turned to her and said you must go annie you must go i would rather not she said to the doctor i prefer to remain at home i would much rather remain at home without looking at her cousin she then addressed me and asked me about agnes and whether she should see her and whether she was not likely to come that day and was so much disturbed that i wondered how even the doctor buttering his toast could be blind to what was so obvious but he saw nothing he told her goodnaturedly that she was young and ought to be amused and entertained and must not allow herself to be made dull by a dull old fellow moreover he said he wanted to hear her sing all the new singers songs to him and how could she do that well unless she went so the doctor persisted in making the engagement for her and mr jack maldon was to come back to dinner this concluded he went to his patent place i suppose but at all events went away on his horse looking very idle i was curious to find out next morning whether she had been she had not but had sent into london to put her cousin off and had gone out in the afternoon to see agnes and had prevailed upon the doctor to go with her and they had walked home by the fields the doctor told me the evening being delightful i wondered then whether she would have gone if agnes had not been in town and whether agnes had some good influence over her too she did not look very happy i thought but it was a good face or a very false one i often glanced at it for she sat in the window all the time we were at work and made our breakfast which we took by snatches as we were employed when i left at nine oclock she was kneeling on the ground at the doctors feet putting on his shoes and gaiters for him there was a softened shade upon her face thrown from some green leaves overhanging the open window of the low room and i thought all the way to doctors commons of the night when i had seen it looking at him as he read i was pretty busy now up at five in the morning and home at nine or ten at night but i had infinite satisfaction in being so closely engaged and never walked slowly on any account and felt enthusiastically that the more i tired myself the more i was doing to deserve dora i had not revealed myself in my altered character to dora yet because she was coming to see miss mills in a few days and i deferred all\"\n",
    "alf = sorted(list(set(txt)));\n",
    "tok = LZW_encode(txt, alf);\n",
    "print(tok);\n",
    "print(txt == LZW_decode(tok,alf))"
   ]
  },
  {
   "cell_type": "code",
   "execution_count": 72,
   "metadata": {},
   "outputs": [
    {
     "name": "stdout",
     "output_type": "stream",
     "text": [
      "de pierre vous avez ete soldat oui bonne femme soldat pourquoi nallezvous pas a lauberge parce que je nai pas dargent helas dit madame de r je nai dans ma bourse que quatre sous donnez toujours lhomme prit les quatre sous madame de r continua vous ne pouvez vous loger avec si peu dans une auberge avezvous essaye pourtant il est impossible que vous passiez ainsi la nuit vous avez sans doute froid et faim on aurait pu vous loger par charite jai frappe a toutes les portes eh bien partout on ma chasse la bonne femme toucha le bras de lhomme et lui montra de lautre cote de la place une petite maison basse a cote de leveche vous avez repritelle frappe a toutes les portes oui avezvous frappe a cellela non frappezy chapitre ii la prudence conseillee a la sagesse ce soirla m leveque de digne apres sa promenade en ville etait reste assez tard enferme dans sa chambre il soccupait dun grand travail sur les devoirs lequel est malheureusement demeure inacheve il depouillait soigneusement tout ce que les peres et les docteurs ont dit sur cette grave matiere son livre etait divise en deux parties premierement les devoirs de tous deuxiemement les devoirs de chacun selon la classe a laquelle il appartient les devoirs de tous sont les grands devoirs il y en a quatre saint matthieu les indique devoirs envers dieu matth vi devoirs envers soimeme matth v devoirs envers le prochain matth vii devoirs envers les creatures matth vi pour les autres devoirs leveque les avait trouves indiques et prescrits ailleurs aux souverains et\n"
     ]
    }
   ],
   "source": [
    "alf = [' ', 'a', 'b', 'c', 'd', 'e', 'f', 'g', 'h', 'i', 'j', 'l', 'm', 'n', 'o', 'p', 'q', 'r', 's', 't', 'u', 'v', 'x', 'y', 'z']\n",
    "id = 436\n",
    "cod = [5, 0, 0, 0, 18, 14, 2, 0, 2, 24, 14, 3, 0, 0, 4, 4, 0, 0, 19, 1, 0, 0, 3, 14, 4, 14, 2, 9, 0, 4, 20, 1, 2, 7, 2, 2, 24, 3, 2, 0, 3, 2, 1, 2, 8, 6, 3, 22, 3, 0, 2, 0, 4, 1, 2, 1, 0, 1, 0, 7, 10, 10, 3, 0, 0, 0, 4, 23, 8, 0, 3, 0, 0, 0, 3, 1, 6, 0, 1, 0, 0, 1, 1, 10, 3, 0, 16, 3, 0, 0, 0, 0, 8, 0, 2, 2, 3, 1, 1, 0, 1, 13, 6, 3, 0, 3, 7, 2, 9, 1, 1, 3, 2, 4, 1, 0, 0, 1, 1, 2, 2, 2, 2, 0, 1, 12, 1, 0, 4, 5, 2, 1, 11, 0, 0, 2, 1, 5, 0, 5, 3, 2, 6, 0, 0, 3, 1, 0, 12, 4, 4, 0, 3, 2, 20, 3, 2, 1, 8, 1, 0, 4, 7, 2, 3, 1, 3, 4, 1, 1, 0, 6, 3, 4, 4, 8, 5, 0, 1, 4, 6, 0, 7, 5, 3, 0, 1, 8, 6, 24, 8, 5, 8, 1, 0, 4, 2, 1, 8, 3, 0, 3, 7, 4, 0, 3, 2, 2, 0, 4, 0, 2, 1, 2, 3, 1, 0, 0, 0, 0, 0, 10, 4, 3, 0, 4, 4, 4, 6, 18, 13, 7, 7, 6, 0, 0, 0, 1, 1, 0, 9, 3, 4, 7, 4, 1, 1, 0, 3, 8, 0, 13, 2, 7, 4, 16, 0, 0, 0, 10, 2, 0, 4, 7, 14, 8, 4, 9, 0, 14, 17, 10, 2, 3, 3, 15, 1, 0, 0, 11, 3, 0, 0, 0, 5, 1, 3, 1, 1, 0, 8, 2, 11, 5, 7, 0, 2, 6, 1, 21, 1, 18, 8, 20, 7, 10, 3, 7, 8, 14, 23, 5, 2, 11, 9, 5, 10, 9, 16, 0, 7, 0, 9, 2, 0, 0, 8, 4, 10, 5, 0, 0, 0, 1, 9, 10, 0, 5, 6, 6, 3, 0, 0, 0, 0, 6, 5, 21, 1, 4, 7, 5, 6, 0, 10, 14, 0, 0, 1, 0, 0, 0, 0, 15, 5, 7, 1, 1, 1, 0, 9, 1, 1, 1, 0, 0, 0, 0, 0, 11, 1, 6, 0, 1, 20, 1, 0, 0, 0, 7, 7, 23, 14, 8, 5, 0, 18, 1, 0, 8, 1, 5, 1, 0, 0, 0, 6, 4, 2, 0, 0, 0, 0, 0, 9, 4, 3, 21, 7, 10, 9, 4, 0, 7, 0, 0, 0, 11, 0, 1, 0, 2, 1, 0, 0, 0, 16, 1, 0, 0, 0, 0, 11, 1, 0, 0, 0, 0, 0, 0, 0, 0, 0, 0, 0, 0, 0, 0, 5, 0, 1, 0, 0, 0, 0, 0, 1, 1, 14, 11, 12, 1, 2, 0, 4, 6, 1, 23, 9, 5, 15, 13, 13, 15, 12, 9, 0, 2, 0, 2, 5, 6, 1, 3, 5, 7, 9, 0, 1, 7, 0, 3, 2, 18, 2, 0, 3, 8, 8, 8, 0, 2, 0, 1, 0, 3, 5, 8, 20, 0, 11, 10, 6, 23, 2, 5, 11, 9, 12, 0, 11, 3, 7, 0, 12, 4, 12, 7, 3, 0, 0, 1, 4, 0, 4, 3, 19, 8, 2, 13, 0, 8, 16, 10, 5, 3, 6, 10, 3, 8, 5, 10, 18, 2, 2, 10, 2, 11, 2, 21, 0, 11, 0, 6, 1, 6, 5, 2, 2, 15, 1, 0, 4, 1, 3, 0, 0, 0, 4, 6, 13, 0, 13, 7, 0, 2, 7, 0, 17, 21, 0, 10, 3, 4, 0, 0, 0, 6, 0, 0, 0, 0, 0, 0, 7, 1, 14, 2, 14, 3, 0, 4, 4, 0, 4, 1, 3, 0, 0, 5, 1, 3, 0, 11, 10, 1, 0, 2, 1, 0, 0, 0, 0, 0, 0, 0, 10, 14, 1, 6, 0, 13, 15, 8, 9, 8, 16, 15, 0, 5, 5, 0, 0, 2, 0, 0, 0, 0, 0, 0, 0, 0, 0, 7, 12, 0, 0, 16, 6, 2, 0, 0, 5, 10, 12, 0, 0, 4, 1, 0, 0, 0, 0, 9, 0, 0, 21, 0, 21, 9, 0, 4, 0, 0, 21, 13, 0, 0, 0, 15, 0, 0, 0, 0, 0, 0, 0, 3, 10, 2, 3, 2, 0, 17, 0, 7, 7, 12, 2, 13, 3, 4, 10, 4, 4, 5, 1, 3, 23, 20, 9, 0, 18, 16, 2, 18, 18, 8, 1, 8, 9, 15, 0, 0, 0, 0, 11, 1, 12, 3, 16, 4, 0, 5, 5, 2, 1, 0, 0, 1, 0, 0, 9, 7, 0, 4, 0, 0, 0, 0, 0, 0, 0, 0, 0, 0, 6, 4, 0, 0, 17, 4, 2, 0, 0, 1, 1, 8, 3, 6, 1, 11, 1, 5, 16, 9, 0, 0, 6, 16, 0, 0, 11, 1, 0, 0, 3, 0, 6, 3, 2, 0, 0, 0, 7, 6, 2, 3, 17, 2, 0, 12, 0, 1, 4, 0, 0, 1, 16, 2, 0, 2, 0, 0, 0, 0, 0, 0, 0, 0, 0, 0, 0, 0, 0, 0, 1, 1, 0, 0, 1, 12, 2, 0, 0, 9, 0, 7, 0, 1, 1, 1, 3, 3, 0, 3, 1, 0, 3, 1, 0, 0, 0, 0, 0, 0, 0, 0, 0, 0, 0, 3, 9, 1, 0, 16, 5, 1, 0, 0, 5, 2, 8, 1, 0, 0, 0, 0, 0, 1, 0, 1, 0, 6, 3, 2, 3, 0, 1, 1, 11, 1, 0, 0, 3, 3, 3, 1, 2, 1, 4, 0, 0, 1, 6, 3, 0, 1, 19, 5, 19, 0, 1, 6, 3, 3, 6, 7, 0, 0, 4, 6, 7, 1, 0, 0, 3, 2, 4, 2, 1, 3, 1, 0, 0, 2, 3, 2, 2, 0, 2, 4, 3, 0, 0, 0, 17, 10, 15, 12, 0, 11, 3, 4, 0, 0, 17, 0, 0, 0, 0, 0, 0, 0, 0, 0, 1, 0, 2, 18, 0, 8, 3, 12, 7, 2, 3, 15, 0, 9, 16, 3, 4, 2, 16, 17, 0, 0, 2, 0, 18, 5, 0, 3, 2, 1, 0, 22, 8, 2, 13, 0, 0, 4, 8, 2, 0, 0, 0, 1, 1, 0, 0, 2, 0, 0, 9, 1, 0, 3, 13, 5, 14, 9, 0, 2, 1, 0, 0, 0, 0, 1, 0, 0, 1, 0, 0, 1, 1, 18, 1, 0, 0, 12, 16, 2, 0, 0, 0, 3, 0, 0, 0, 0, 1, 1, 1, 0, 2, 1, 0, 0, 0, 0, 0, 0, 1, 17, 2, 2, 1, 0, 0, 1, 3, 3, 7, 3, 7, 4, 5, 0, 2, 0, 3, 9, 1, 2, 19, 0, 21, 0, 0, 0, 14, 5, 3, 7, 0, 2, 14, 1, 4, 6, 2, 7, 1, 0, 9, 16, 3, 13, 11, 5, 3, 6, 4, 0, 4, 2, 3, 0, 9, 4, 1, 1, 6, 12, 4, 3, 12, 1, 8, 7, 4, 1, 5, 0, 0, 2, 1, 0, 0, 0, 0, 1, 1, 1, 1, 2, 0, 2, 1, 0, 20, 0, 8, 0, 0, 6, 1, 6, 5, 10, 1, 6, 0, 0, 1, 4, 3, 1, 1, 0, 3, 3, 0, 0, 16, 1, 0, 3, 4, 2, 4, 19, 2, 4, 0, 0, 0, 3, 2, 0, 3, 2, 2, 3, 1, 0, 1, 0, 0, 1, 0, 1, 0, 2, 0, 3, 1, 3, 1, 3, 2, 2, 0, 1, 0, 0, 0, 0, 3, 1, 3, 3, 3, 12, 0, 0, 0, 0, 17, 5, 1, 0, 0, 11, 1, 6, 5, 5, 6, 0, 4, 3, 3, 2, 0, 1, 0, 0, 0, 0, 0, 5, 1, 0, 0, 0, 0, 6, 7, 0, 1, 1, 0, 11, 1, 2, 0, 0, 3, 0, 7, 7, 0, 6, 0, 4, 2, 0, 7, 1, 0, 0, 2, 1, 3, 2, 1, 3, 3, 4, 6, 0, 5, 5, 0, 0, 0, 4, 1, 0, 2, 0, 8, 7, 2, 7, 8, 0, 8, 10, 7, 0, 5, 1, 7, 4, 0, 1, 13, 5, 0, 0, 0, 0, 2, 10, 1, 10, 7, 10, 0, 0, 0, 0, 3, 1, 0, 3, 1, 7, 8, 6, 0, 0, 2, 3, 3, 6, 4, 0, 0, 0, 0, 0, 1, 0, 0, 12, 6, 24, 0, 0, 4, 0, 11, 9, 3, 0, 0, 0, 0, 0, 0, 0, 0, 0, 2, 0, 20, 1, 5, 1, 14, 13, 11, 0, 6, 2, 14, 5, 1, 9, 11, 14, 1, 4, 1, 1, 1, 1, 0, 0, 0, 0, 0, 0, 0, 0, 0, 0, 0, 0, 0, 0, 0, 1, 0, 1, 0, 0, 0, 0, 3, 0, 1, 0, 0, 2, 2, 1, 7, 2, 0, 2, 1, 0, 1, 0, 0, 14, 10, 0, 0, 0, 1, 3, 0, 0, 1, 1, 0, 4, 0, 0, 0, 14, 5, 0, 0, 0, 0, 0, 0, 0, 0, 0, 2, 0, 0, 24, 0, 1, 0, 0, 1, 1, 3, 5, 0, 0, 3, 3, 5, 5, 0, 0, 0, 0, 0, 0, 0, 0, 0, 0]\n",
    "aux = decode_move_to_front(cod,alf)\n",
    "print(decode_burrows_wheeler(aux,id))"
   ]
  },
  {
   "cell_type": "code",
   "execution_count": 73,
   "metadata": {},
   "outputs": [
    {
     "name": "stdout",
     "output_type": "stream",
     "text": [
      "a las razones del loco estuvieron los circustantes atentos pero nuestro licenciado volviendose a nuestro capellan y asiendole de las manos le dijo no tenga vuestra merced pena senor mio ni haga caso de lo que este loco ha dicho que si el es jupiter y no quisiere llover yo que soy neptuno el padre y el dios de las aguas llovere todas las veces que se me antojare y fuere menester a lo que respondio el capellan con todo eso senor neptuno no sera bien enojar al senor jupiter vuestra merced se quede en su casa que otro dia cuando haya mas comodidad y mas espacio volveremos por vuestra merced riose el retor y los presentes por cuya risa se medio corrio el capellan desnudaron al licenciado quedose en casa y acabose el cuento pues este es el cuento senor barbero dijo don quijote que por venir aqui como de molde no podia dejar de contarle ah senor rapista senor rapista y cuan ciego es aquel que no vee por tela de cedazo y es posible que vuestra merced no sabe que las comparaciones que se hacen de ingenio a ingenio de valor a valor de hermosura a hermosura y de linaje a linaje son siempre odiosas y mal recebidas yo senor barbero no soy neptuno el dios de las aguas ni procuro que nadie me tenga por discreto no lo siendo solo me fatigo por dar a entender al mundo en el error en que esta en no renovar en si el felicisimo tiempo donde campeaba la orden de la andante caballeria pero no es merecedora la depravada edad nuestra de gozar tanto bien como el que gozaron las edades donde los andantes caballeros tomaron a su cargo y echaron sobre sus espaldas la defensa de los reinos el amparo de las doncellas el socorro de los huerfanos y pupilos el castigo de los soberbios y el premio de los humildes los mas de los caballeros que agora se usan antes les crujen los damascos los brocados y otras ricas telas de que\n"
     ]
    }
   ],
   "source": [
    "tok = [(1, 0, 'a'), (1, 0, ' '), (1, 0, 'l'), (3, 1, 's'), (4, 1, 'r'), (4, 1, 'z'), (1, 0, 'o'), (1, 0, 'n'), (1, 0, 'e'), (8, 2, 'd'), (4, 1, 'l'), (16, 2, 'o'), (1, 0, 'c'), (2, 1, ' '), (12, 2, 't'), (1, 0, 'u'), (1, 0, 'v'), (1, 0, 'i'), (6, 1, 'r'), (22, 2, ' '), (16, 2, 's'), (4, 1, 'c'), (11, 1, 'r'), (3, 1, 'u'), (19, 2, 'a'), (14, 1, 't'), (37, 3, 'a'), (5, 2, 'n'), (3, 1, 'o'), (8, 2, 'p'), (31, 3, ' '), (10, 1, 'u'), (43, 3, 'r'), (8, 2, 'l'), (34, 1, 'c'), (22, 2, 'c'), (5, 1, 'a'), (66, 1, 'o'), (11, 1, 'v'), (3, 1, 'l'), (59, 3, 'n'), (10, 2, 's'), (5, 1, ' '), (95, 2, 'n'), (33, 7, 'c'), (11, 1, 'p'), (93, 2, 'l'), (66, 2, ' '), (1, 0, 'y'), (21, 2, 's'), (31, 5, 'l'), (31, 2, 'd'), (3, 2, 'l'), (127, 3, 'm'), (23, 2, 'o'), (6, 2, 'l'), (16, 3, 'i'), (1, 0, 'j'), (83, 3, 'o'), (3, 1, 't'), (32, 2, 'g'), (59, 2, 'v'), (59, 5, 'a'), (31, 2, 'e'), (126, 2, 'e'), (27, 1, ' '), (64, 2, 'n'), (12, 2, 's'), (5, 2, 'o'), (14, 1, ' '), (18, 1, 'i'), (39, 3, 'i'), (3, 1, 'h'), (16, 1, 'g'), (18, 2, 'c'), (65, 2, 'o'), (73, 5, 'o'), (3, 1, 'q'), (49, 2, ' '), (51, 3, 'e'), (196, 6, 'h'), (28, 2, 'd'), (150, 2, 'h'), (23, 6, 's'), (46, 2, 'e'), (220, 2, 'e'), (102, 2, 'j'), (13, 1, 'p'), (11, 1, 't'), (81, 2, ' '), (135, 2, 'n'), (26, 4, 'i'), (140, 3, 'r'), (49, 3, 'l'), (13, 1, 'v'), (21, 4, 'o'), (45, 6, 'o'), (30, 3, 'e'), (40, 1, 't'), (11, 1, 'n'), (266, 3, 'l'), (121, 2, 'a'), (72, 1, 'r'), (21, 2, 'y'), (11, 4, 'd'), (121, 2, 's'), (182, 8, 'a'), (125, 1, 'u'), (6, 3, 'l'), (58, 5, 'e'), (179, 2, 'o'), (23, 1, 'a'), (14, 3, 'a'), (4, 2, 'v'), (13, 1, 'c'), (104, 3, 'q'), (72, 4, 'e'), (188, 3, ' '), (310, 3, 'o'), (118, 1, 'a'), (66, 5, 'f'), (21, 2, 'r'), (20, 4, 'n'), (166, 4, 'r'), (286, 3, 'l'), (113, 6, 'r'), (16, 2, 'p'), (363, 2, 'd'), (214, 3, 'e'), (100, 2, 'c'), (298, 8, 'c'), (382, 3, 't'), (87, 2, 'o'), (183, 3, 'o'), (249, 7, 'n'), (150, 7, 'n'), (17, 4, 'r'), (64, 2, 'b'), (330, 3, ' '), (26, 3, 'j'), (96, 2, ' '), (3, 1, 'l'), (37, 7, 'j'), (227, 7, 'v'), (320, 14, 's'), (104, 2, 'q'), (18, 2, 'd'), (291, 3, 'n'), (12, 2, 'u'), (312, 4, 'a'), (125, 5, 'o'), (415, 4, 'd'), (443, 2, ' '), (483, 2, 'a'), (407, 3, ' '), (312, 2, 'y'), (52, 3, 'a'), (502, 3, 'o'), (6, 1, 'o'), (24, 2, 'd'), (254, 2, ' '), (186, 2, 'm'), (16, 3, 'e'), (165, 2, 'a'), (483, 2, 'o'), (481, 5, 'e'), (179, 2, 'm'), (516, 4, 'o'), (103, 17, 'r'), (291, 3, 'e'), (200, 4, 'r'), (4, 1, 't'), (30, 3, 'y'), (577, 5, 'p'), (226, 3, 'e'), (574, 5, 'p'), (20, 3, 'c'), (50, 1, 'y'), (47, 2, 'r'), (379, 2, 'a'), (290, 6, 'd'), (84, 3, 'c'), (23, 2, 'r'), (255, 15, 'd'), (46, 2, 'n'), (41, 1, 'd'), (217, 2, 'o'), (11, 2, 'a'), (663, 3, 'i'), (609, 9, 'q'), (198, 3, 'o'), (100, 4, 'n'), (197, 6, 'y'), (32, 2, 'c'), (2, 1, 'b'), (118, 7, 'c'), (29, 2, 'n'), (120, 2, ' '), (68, 1, 'u'), (108, 3, 'e'), (524, 4, 'e'), (8, 3, 'l'), (23, 8, 's'), (289, 5, 'b'), (85, 2, 'b'), (701, 4, 'd'), (623, 4, 'd'), (96, 3, 'q'), (520, 2, 'j'), (263, 2, 'e'), (271, 5, 'p'), (211, 4, 'e'), (606, 2, 'r'), (86, 2, 'q'), (23, 2, ' '), (261, 4, ' '), (309, 3, 'm'), (245, 2, 'd'), (6, 2, 'n'), (90, 3, 'o'), (300, 4, 'd'), (12, 1, 'j'), (371, 3, 'd'), (18, 2, 'c'), (63, 2, 't'), (10, 2, 'l'), (487, 3, 'h'), (94, 7, 'r'), (193, 2, 'i'), (812, 3, ' '), (14, 14, 'y'), (351, 5, ' '), (194, 2, 'e'), (567, 1, 'o'), (148, 4, 'a'), (108, 3, 'l'), (113, 5, 'n'), (338, 3, 'e'), (120, 6, 't'), (19, 2, 'a'), (85, 5, 'e'), (248, 2, 'z'), (23, 2, 'y'), (41, 4, 'p'), (217, 2, 'i'), (174, 1, 'l'), (156, 6, 'v'), (363, 14, 'n'), (209, 3, 'a'), (202, 2, ' '), (27, 4, 'l'), (433, 6, 'p'), (140, 2, 'a'), (420, 3, 'n'), (642, 10, 'h'), (16, 2, 'e'), (333, 4, ' '), (22, 1, 'n'), (122, 1, 'e'), (215, 2, 'o'), (630, 3, 'i'), (10, 7, 'd'), (82, 3, 'a'), (415, 2, 'r'), (19, 3, 'v'), (8, 5, 'd'), (47, 3, 'e'), (7, 1, 'm'), (114, 2, 'u'), (101, 3, 'a'), (12, 11, 'y'), (757, 5, 'i'), (897, 2, 'j'), (980, 4, 'l'), (9, 6, 's'), (314, 3, 's'), (208, 2, 'm'), (477, 3, ' '), (277, 3, 'o'), (140, 2, 's'), (554, 5, 'l'), (507, 3, 'c'), (2, 1, 'b'), (570, 3, 's'), (850, 4, 's'), (372, 13, 'n'), (17, 3, 'o'), (863, 13, 'd'), (852, 17, 'n'), (375, 2, 'p'), (43, 2, 'c'), (121, 2, 'o'), (289, 6, 'a'), (35, 2, 'e'), (842, 4, 't'), (74, 2, 'g'), (126, 2, 'p'), (169, 4, 'i'), (38, 1, 'c'), (608, 4, ' '), (67, 3, 'l'), (82, 3, 'i'), (26, 2, 'd'), (89, 4, 'l'), (5, 2, 'm'), (40, 2, 'f'), (37, 1, 't'), (17, 1, 'g'), (426, 4, 'r'), (41, 2, 'a'), (222, 4, 'e'), (635, 3, 'n'), (99, 2, 'r'), (585, 4, 'm'), (119, 2, 'd'), (120, 3, 'n'), (123, 4, 'e'), (629, 2, 'o'), (21, 2, 'e'), (513, 4, 'e'), (558, 4, 'a'), (12, 4, 'n'), (30, 2, 'r'), (179, 3, 'v'), (58, 3, 'e'), (225, 4, ' '), (41, 3, 'f'), (4, 2, 'i'), (343, 2, 's'), (2, 1, 'm'), (28, 2, 't'), (242, 4, 'o'), (567, 4, 'd'), (425, 3, 'a'), (12, 2, 'e'), (387, 2, 'a'), (189, 3, ' '), (74, 2, 'd'), (361, 6, 'l'), (316, 3, 'n'), (121, 2, 'n'), (593, 3, 'c'), (28, 3, 'l'), (445, 2, 'r'), (562, 3, 'p'), (254, 7, 'e'), (224, 2, 'm'), (830, 3, 'c'), (708, 3, 'r'), (56, 5, 'd'), (267, 2, 'r'), (6, 1, 'v'), (228, 2, 'a'), (27, 2, 'd'), (876, 3, 'n'), (484, 7, 'd'), (62, 2, 'g'), (34, 1, 'z'), (133, 3, 't'), (74, 3, 'o'), (1002, 6, 'c'), (653, 4, 'e'), (567, 6, 'g'), (29, 4, 'o'), (20, 2, 'l'), (922, 4, 'd'), (57, 2, 'e'), (325, 3, 'o'), (148, 4, 'l'), (335, 3, 'a'), (128, 6, 's'), (129, 9, 'o'), (11, 2, 't'), (61, 2, 'a'), (845, 5, ' '), (1022, 5, 'r'), (290, 3, 'y'), (58, 2, 'c'), (544, 2, 'r'), (456, 4, 'o'), (40, 1, 'r'), (466, 3, 'u'), (998, 6, 'l'), (443, 4, 'l'), (132, 4, 'f'), (118, 2, 's'), (140, 5, 'l'), (66, 3, 'r'), (7, 1, 'i'), (193, 2, 's'), (129, 4, 'a'), (617, 4, 'o'), (438, 8, 'd'), (65, 2, 'c'), (948, 4, 's'), (27, 4, 's'), (441, 2, 'o'), (343, 3, ' '), (52, 7, 'h'), (171, 2, 'r'), (400, 2, 'n'), (10, 3, 'y'), (917, 3, 'p'), (65, 1, 'l'), (65, 6, 'c'), (45, 2, 't'), (420, 4, 'd'), (38, 6, 's'), (127, 2, 'e'), (544, 2, 'i'), (38, 5, 'e'), (30, 2, 'p'), (106, 2, 'm'), (672, 6, 'l'), (67, 5, 'm'), (55, 2, 'd'), (205, 3, 'l'), (13, 3, 'm'), (112, 4, 'e'), (11, 5, 'c'), (220, 10, 'q'), (273, 3, 'a'), (79, 2, 'r'), (886, 4, ' '), (197, 2, 'a'), (230, 3, 'n'), (255, 4, 'l'), (259, 4, 'r'), (17, 1, 'j'), (316, 3, 'l'), (614, 4, 'a'), (63, 3, 'c'), (9, 3, 'l'), (4, 3, 'b'), (611, 3, 'a'), (187, 2, 's'), (115, 3, 'o'), (369, 3, 's'), (223, 2, 'i'), (150, 3, ' '), (900, 4, 's'), (99, 4, 'q'), (55, 1, 'e')]\n",
    "print(LZ77_decode(tok))"
   ]
  },
  {
   "cell_type": "code",
   "execution_count": 47,
   "metadata": {},
   "outputs": [
    {
     "name": "stdout",
     "output_type": "stream",
     "text": [
      "enramada que a mano habian puesto a la entrada del pueblo estaban todos llenos de luminarias a quien no ofendia el viento que entonces no soplaba sino tan manso que no tenia fuerza para mover las hojas de los arboles los musicos eran los regocijadores de la boda que en diversas cuadrillas por aquel agradable sitio andaban unos bailando y otros cantando y otros tocando la diversidad de los referidos instrumentos en efecto no parecia sino que por todo aquel prado andaba corriendo la alegria y saltando el contento otros muchos andaban ocupados en levantar andamios de donde con comodidad pudiesen ver otro dia las representaciones y danzas que se habian de hacer en aquel lugar dedicado para solenizar las bodas del rico camacho y las exequias de basilio no quiso entrar en el lugar don quijote aunque se lo pidieron asi el labrador como el bachiller pero el dio por disculpa bastantisima a su parecer ser costumbre de los caballeros andantes dormir por los campos y florestas antes que en los poblados aunque fuese debajo de dorados techos y con esto se desvio un poco del camino bien contra la voluntad de sancho viniendosele a la memoria el buen alojamiento que habia tenido en el castillo o casa de don diego capitulo xx donde se cuentan las bodas de camacho el rico con el suceso de basilio el pobre apenas la blanca aurora habia dado lugar a que el luciente febo con el ardor de sus calientes rayos las liquidas perlas de sus cabellos de oro enjugase cuando don quijote sacudiendo la pereza de sus miembros se puso en pie y llamo a su escudero sancho que aun todavia roncaba lo cual visto por don quijote antes que le despertase le dijo oh tu bienaventurado sobre cuantos viven\n"
     ]
    }
   ],
   "source": [
    "tok = [(0, 'l'), (0, 'a'), (0, ' '), (0, 'f'), (0, 'e'), (0, 'n'), (5, 't'), (0, 'r'), (5, ' '), (7, ' '), (0, 'd'), (0, 'u'), (3, 't'), (0, 'o'), (0, 'i'), (0, 't'), (3, 's'), (12, 'r'), (3, 'l'), (5, 's'), (3, 'a'), (0, 's'), (22, 'i'), (5, 'g'), (5, 'a'), (6, 't'), (22, ' '), (10, 'e'), (0, 'x'), (2, 's'), (0, 'p'), (5, 'r'), (2, 'n'), (16, ' '), (1, 'e'), (27, 's'), (14, 'l'), (11, 'a'), (16, 's'), (3, 'p'), (2, 'r'), (3, 'd'), (0, 'h'), (14, 'r'), (8, 'i'), (0, 'b'), (35, 's'), (3, 'e'), (0, 'c'), (8, 'a'), (22, 'e'), (0, 'm'), (5, 'n'), (39, ' '), (6, 'i'), (19, 'e'), (27, 'c'), (14, 'u'), (31, 's'), (42, 'e'), (3, 'f'), (5, 'u'), (60, 's'), (3, 'c'), (2, 'v'), (20, ' '), (10, 'd'), (66, 'm'), (33, 's'), (41, 'd'), (66, 'n'), (15, ' '), (1, 'a'), (61, 'u'), (8, 'e'), (18, ' '), (11, 'e'), (19, 'a'), (16, 't'), (2, 'q'), (12, 'e'), (3, 'n'), (72, 'l'), (2, ' '), (50, 'g'), (9, 'd'), (9, 'l'), (84, 'd'), (5, 'f'), (53, 's'), (9, 'n'), (72, 'e'), (6, 'f'), (15, 'n'), (3, 'q'), (12, 'a'), (6, 'd'), (78, ' '), (31, 'o'), (8, 't'), (9, 'c'), (5, 'd'), (84, 'l'), (66, 'd'), (5, 'm'), (53, 'c'), (66, 'f'), (75, 'n'), (7, 'i'), (0, 'q'), (81, 's'), (60, ' '), (35, 'x'), (16, 'e'), (8, 'm'), (94, 'a'), (16, 'i'), (14, 'n'), (56, 's'), (21, 's'), (22, 'a'), (15, 'l'), (73, 'n'), (54, 'e'), (6, ' '), (51, ' '), (8, 'u'), (33, 't'), (42, 'a'), (6, 's'), (56, ' '), (49, 'a'), (46, 'a'), (75, 't'), (119, ' '), (31, 'i'), (102, 's'), (48, 'm'), (133, 'r'), (50, 's'), (51, 's'), (129, 'n'), (27, 'l'), (66, 'p'), (33, 'n'), (25, 'u'), (29, ' '), (77, ' '), (73, ' '), (99, 'r'), (114, ' '), (53, 'f'), (118, 'c'), (5, 'e'), (48, 't'), (3, 'j'), (7, 'e'), (9, 'a'), (13, 'e'), (8, 'r'), (91, 'y'), (13, 'r'), (58, 'v'), (32, 'e'), (26, ' '), (31, 'a'), (27, 'u'), (125, 'c'), (14, 'm'), (133, 't'), (16, 'a'), (165, 'l'), (20, 'c'), (2, 'l'), (15, 'e'), (8, ' '), (53, ' '), (22, 'p'), (15, 'r'), (174, 'e'), (64, 'o'), (12, 'p'), (158, ' '), (49, 'o'), (182, 's'), (112, 'h'), (2, 'c'), (43, 'e'), (3, 'g'), (15, 's'), (2, 'i'), (34, 'a'), (12, ' '), (52, 'i'), (1, 'i'), (62, ' '), (148, 'l'), (84, 's'), (174, 'l'), (9, 'b'), (30, 's'), (9, 'q'), (81, 'l'), (110, 'u'), (66, 'b'), (47, 's'), (66, 'a'), (49, 'h'), (5, 'v'), (191, 'e'), (165, 'd'), (5, 'x'), (136, 'r'), (32, ' '), (16, 'o'), (12, 't'), (64, 'e'), (95, 'u'), (72, 'n'), (7, 'a'), (15, 't'), (40, 'a'), (27, 't'), (81, ' '), (220, 'i'), (192, 'u'), (40, 'r'), (105, 'i'), (214, 'e'), (171, 'g'), (9, 'e'), (34, 'l'), (84, 'p'), (41, ' '), (35, ' '), (16, 'r'), (58, ' '), (11, 'u'), (40, 'l'), (2, 'f'), (118, 'd'), (218, 'i'), (21, 'v'), (191, 't'), (155, 'e'), (56, 'n'), (236, 'e'), (86, 'e'), (119, 'c'), (174, 'i'), (214, 'u'), (125, 'f'), (196, 't'), (32, 'r'), (15, 'f'), (15, 'a'), (165, 'e'), (49, 'l'), (2, 't'), (84, 'c'), (225, 'e'), (172, 'e'), (27, 'd'), (32, 'n'), (175, 'r'), (66, 'c'), (41, 't'), (58, 'c'), (188, 's'), (218, 'a'), (97, ' '), (5, 'l'), (47, ' '), (4, 'u'), (108, 't'), (3, 'b'), (127, 'l'), (154, 's'), (270, 'n'), (11, ' '), (49, 'e'), (27, 'a'), (0, 'g'), (118, 'i'), (121, 'n'), (54, 'r'), (102, 'o'), (216, 'a'), (46, 'l'), (71, 'e'), (18, 'e'), (165, 'p'), (1, 'u'), (27, 'n'), (72, 'p'), (58, 'd'), (75, ' '), (55, ' '), (133, 'l'), (273, 'c'), (43, 'a'), (49, 'u'), (125, 'p'), (45, 't'), (21, ' '), (149, 'm'), (191, 'n'), (60, 'u'), (147, 'd'), (101, 'e'), (27, 'b'), (58, 't'), (5, 'i'), (1, 'l'), (66, 'r'), (20, 'e'), (8, 'v'), (278, ' '), (166, 'r'), (48, 'n'), (0, 'j'), (37, 'r'), (30, ' '), (67, 'o'), (165, 'n'), (58, 's'), (243, 'o'), (130, ' '), (319, 'l'), (231, 't'), (3, 'i'), (1, 's'), (13, 'i'), (6, 'r'), (53, 't'), (159, 't'), (183, 'l'), (173, 'a'), (73, 'd'), (158, 'v'), (5, 'c'), (217, 's'), (3, 'm'), (201, 'u'), (66, 'e'), (4, 'f'), (8, 'o'), (0, 'y'), (2, 'b'), (35, 'm'), (335, ' '), (4, 'r'), (2, 'g'), (122, 'e'), (57, 'e'), (171, 'i'), (351, 'd'), (205, 'o'), (216, 'e'), (122, 'l'), (104, 'e'), (2, 'u'), (4, 'o'), (100, 'e'), (82, 'o'), (12, 's'), (42, 'i'), (22, 'o'), (328, 't'), (272, 'l'), (66, 'q'), (203, 'l'), (66, 's'), (118, 't'), (342, ' '), (208, 'o'), (141, ' '), (368, 'm'), (46, 'r'), (104, 'u'), (64, 'a'), (8, 'n'), (353, 'e'), (78, 's'), (23, 'e'), (283, 'e'), (3, 'h'), (272, 'a'), (27, 'f'), (244, ' '), (41, 'm'), (248, ' '), (215, 'u'), (232, 'e'), (61, 'e'), (193, 'g'), (75, 'g'), (5, 'o'), (190, ' '), (6, 'a'), (222, 's'), (63, 'h'), (118, 'o'), (297, 'a'), (8, 'c'), (43, 'i'), (52, 'e'), (197, 'a'), (40, 'o'), (15, 'x'), (276, 'o'), (12, 'i'), (314, 'a'), (26, 'e'), (82, 'a'), (401, ' '), (77, 's'), (43, 'o'), (6, 'o'), (297, 'b'), (2, 'y'), (70, ' '), (393, 't'), (87, 'a'), (189, 'u'), (254, 'e'), (48, 's'), (34, 'd'), (87, 'e'), (99, 'u'), (0, 'v'), (128, 'e'), (155, ' '), (122, ' '), (6, 'y'), (305, 'r'), (175, 'n'), (305, 'y'), (64, 'h'), (14, 'i'), (23, 'r'), (98, 'm'), (326, 'q'), (81, 't'), (32, 'i'), (248, 's'), (120, 's'), (175, 'g'), (25, 'n'), (54, 'q'), (12, 'o'), (15, 'q'), (224, 'g'), (53, 'e'), (330, ' '), (148, 'b'), (323, 'e'), (125, 'h'), (362, 't'), (155, 'a'), (221, ' '), (407, 'u'), (100, 'r'), (265, 'e'), (131, 'r'), (5, 'b'), (44, 'd'), (42, 'u'), (162, 'o'), (193, 'd'), (193, 'p'), (73, 'f'), (241, ' '), (274, 't'), (276, 'i'), (335, 'o'), (34, 'e'), (26, 'o'), (291, ' '), (148, 't'), (157, 's'), (343, 'o'), (364, 's'), (42, 'o'), (193, 'r'), (412, 's'), (51, 'l'), (210, 'n'), (428, 'e'), (19, 'o'), (6, 'g'), (389, 'i'), (332, ' '), (347, 'u'), (386, 's'), (433, 'f'), (12, 'm'), (128, 's'), (131, 'f'), (50, 'c'), (457, 't'), (390, 'i'), (6, 'e'), (29, 'p'), (45, 'm'), (349, 'l'), (9, 'u'), (503, ' '), (274, 'm'), (154, ' '), (152, 'e'), (115, 'e'), (455, 'b'), (277, 'a'), (414, ' '), (4, 'a'), (190, 'a'), (461, 'p'), (75, 's'), (204, 'e'), (98, 'n'), (412, 't'), (17, 'u'), (176, 'c'), (101, 'o'), (52, 'b'), (259, ' '), (273, 'm'), (14, 't'), (27, 'm'), (33, 'q'), (81, 'n'), (34, 'p'), (58, 'r'), (367, 'r'), (87, 'h'), (44, 'r'), (62, 'r'), (21, 'r'), (45, 'v'), (510, 'a'), (217, ' '), (77, 'g'), (297, 'i'), (1, ' '), (435, ' '), (65, 'a'), (518, 'l'), (366, ' '), (11, 'h'), (169, 'm'), (104, 'a'), (328, 'c'), (7, 't'), (87, 'u'), (79, 'e'), (343, 'a'), (94, 't'), (53, 'a'), (165, 'i'), (93, 'e'), (382, 'a'), (235, 'c'), (91, 'e'), (356, 'e'), (292, 'l'), (549, 'd'), (66, 'g'), (449, 't'), (57, 'o'), (26, 'r'), (446, ' '), (184, 'l'), (14, 's'), (377, 'c'), (388, ' '), (519, 's'), (105, 'b'), (73, 'i'), (533, 'l'), (549, 'a'), (343, 'i'), (1, 't'), (118, ' '), (10, 'a'), (142, 't'), (202, 'u'), (84, 'h'), (169, 'e'), (297, 'd'), (361, 'm'), (118, 's'), (21, 't'), (171, 'q'), (96, 'i'), (53, 't')]\n",
    "print(LZ78_decode(tok))"
   ]
  },
  {
   "cell_type": "code",
   "execution_count": 48,
   "metadata": {},
   "outputs": [
    {
     "data": {
      "text/plain": [
       "'a small sharplooking lad halffootboy and halfclerk who was very much out of breath but who looked at me as if he defied me to prove it legally presented himself is mr traddles within i said yes sir but hes engaged i want to see him after a moments survey of me the sharplooking lad decided to let me in and opening the door wider for that purpose admitted me first into a little closet of a hall and next into a little sittingroom where i came into the presence of my old friend also out of breath seated at a table and bending over papers good god cried traddles looking up its copperfield and rushed into my arms where i held him tight all well my dear traddles all well my dear dear copperfield and nothing but good news we cried with pleasure both of us my dear fellow said traddles rumpling his hair in his excitement which was a most unnecessary operation my dearest copperfield my longlost and most welcome friend how glad i am to see you how brown you are how glad i am upon my life and honour i never was so rejoiced my beloved copperfield never i was equally at a loss to express my emotions i was quite unable to speak at first my dear fellow said traddles and grown so famous my glorious copperfield good gracious me when did you come where have you come from what have you been doing never pausing for an answer to anything he said traddles who had clapped me into an easychair by the fire all this time impetuously stirred the fire with one hand and pulled at my neckkerchief with the other under some wild delusion that it was a greatcoat without putting down the poker he now hugged me again and i hugged him and both laughing and both wiping our eyes we both sat down and shook hands across the hearth to think said traddles that you should have been so nearly coming home as you must have been my dear old boy and not at the ceremony what ceremony my dear traddles good gracious me cried traddles opening his eyes in his old way didnt you get my last letter certainly not if it referred to any ceremony why my dear copperfield said traddles sticking his hair upright with both hands and then putting his hands on my knees i am married married i cried joyfully lord bless me yes said traddlesby the reverend horaceto sophydown'"
      ]
     },
     "execution_count": 75,
     "metadata": {},
     "output_type": "execute_result"
    }
   ],
   "source": [
    "tok = ['e', 'd', ' ', 'a', 'b', 'b', 'r', 'u', 'c', 'i', 'a', 'r', ' ', 'v', 'o', 'l', 'e', 'a', ' ', 'd', 'i', ' ', 'm', 'a', 'r', 'g', 'a', 'n', 'o', 'r', 'r', 'e', ' ', 'a', 'f', 'f', 'a', 't', 't', 'o', ' ', 'e', 'r', 'a', ' ', 'n', 'i', 'm', 'i', 'c', 'a', ' ', 'e', ' ', 'd', 'e', ' ', 'l', 'a', ' ', 'l', 'e', 'g', 'g', 'e', ' ', 's', 'u', 'a', ' ', 'c', 'r', 'u', 'd', 'e', 'l', 'e', ' ', 'e', ' ', 'r', 'e', 'a', ' ', 'm', 'a', ' ', 'l', ' ', 'p', 'o', 'p', 'u', 'l', 'o', ' ', 'f', 'a', 'c', 'e', 'a', ' ', 'c', 'o', 'm', 'e', ' ', 'i', ' ', 'p', 'i', 'u', ' ', 'f', 'a', 'n', 'n', 'o', ' ', 'c', 'h', 'u', 'b', 'b', 'i', 'd', 'i', 's', 'c', 'o', 'n', (23, 5), 'a', ' ', 'q', 'u', 'e', 'i', ' ', 'c', 'h', 'e', (15, 5), 'i', 'n', ' ', 'o', 'd', 'i', 'o', ' ', 'h', (46, 5), 'p', 'e', 'r', (51, 4), 'e', ' ', 'l', 'u', 'n', (124, 6), 'l', 't', 'r', 'o', ' ', 'n', 'o', 'n', ' ', 's', 'i', ' ', 'f', 'i', 'd', (148, 4), (14, 4), 'a', 'r', (83, 4), 'e', ' ', 'c', 'o', 'n', 'f', 'e', 'r', 'i', 'r', (157, 5), 'v', 'o', 'g', 'l', 'i', 'a', ' ', 'l', 'o', ' ', 'l', 'a', 's', 'c', 'i', 'a', 'n', (126, 4), 'n', ' ', 'b', 'a', 'n', (45, 4), 'a', ' ', 'u', 'n', ' ', (80, 6), 'u', 'c', 'c', (75, 4), (139, 5), 'l', ' ', 'l', 'a', 'v', 'e', (256, 4), (14, 4), 's', 't', 'o', ' ', 'l', 'o', 'n', 'o', 'r', ' ', 't', (77, 6), 'm', 'a', ' ', 'i', 'l', ' ', 'c', 'o', 'r', (151, 5), 't', 'a', 'c', 'e', ' ', 'q', 'u', 'i', ' ', 's', 'u', ' ', 'n', 'e', 'l', ' ', 'c', 'i', 'e', 'l', ' ', 'g', 'r', (77, 4), 'f', 'i', (111, 4), 'e', ' ', (205, 4), 'e', ' ', 's', 'a', 'n', 't', 'i', ' ', 'a', 'l', 'l', 'a', ' ', 'v', 'e', 'n', 'd', 'e', 't', 't', 'a', ' ', 'i', 'n', (161, 8), (107, 4), 'a', 'l', ' ', 's', 'e', ' ', 'b', 'e', 'n', ' ', 't', 'a', 'r', (141, 5), 'v', 'e', 'n', 'i', 'r', (322, 4), 'p', 'e', 'n', 's', 'a', ' ', 'l', 'i', 'n', 'd', 'u', 'g', 'i', 'o', ' ', 'p', 'o', 'i', (232, 4), ' ', 'p', 'u', 'n', 'i', 'z', 'i', 'o', 'n', 'e', ' ', 'i', 'm', 'm', (35, 5), 'o', 'r', (194, 5), 'l', 'a', ' ', 't', 'u', 'r', 'b', (465, 4), 'r', (437, 5), (338, 5), 'p', 'r', 'e', 'g', 'n', (402, 4), 'n', ' ', (473, 4), 'i', ' ', (302, 5), ' ', 'm', 'a', 'l', (40, 4), ' ', 'c', 'e', 'r', 'c', (157, 8), 't', (441, 8), 'n', ' ', 'p', 'r', 'o', 'v', 'e', 'r', 'b', 'i', 'o', ' ', 'o', 'g', 'n', 'u', 'n', (250, 4), (284, 5), 'f', 'a', 'r', ' ', 'l', (81, 5), (213, 4), 'r', 'b', 'o', 'r', 'e', (425, 6), (67, 4), 't', 'o', (59, 4), 't', 'e', 'r', 'r', 'a', ' ', 'g', (79, 5), 's', (315, 5), 'r', 'g', 'a', 'n', (64, 5), 'e', 's', 'e', 'm', 'p', 'i', 'o', ' ', 'd', (505, 4), 'i', ' ', (154, 7), 'h', (67, 4), 'i', (146, 5), 'o', 'p', 'r', (49, 4), 'l', 'e', ' ', 'a', 'l', (331, 4), 'e', ' ', 'a', 's', 'p', (74, 5), 'd', 'i', ' ', 'v', 'e', 'd', 'e', 'r', 'l', 'o', (257, 5), 'r', ' ', 'd', 'e', ' ', 's', 'u', 'o', 'i', ' ', 'n', 'e', 'f', (473, 4), ' ', 'p', 'e', 'c', 'c', 'a', (365, 4), 'v', 'e', 'a', 'n', ' ', 'p', 'i', 'a', 'c', 'e', 'r', ' ', 'p', 'i', 'c', 'c', 'i', 'o', 'l', (245, 4), 'g', 'r', (39, 5), 'm', 'o', 'l', (37, 4), (114, 5), 'f', 'u', (205, 4), ' ', 'm', (399, 4), ' ', 'o', (11, 4), 's', 'o', 'r', 'e', 'l', 'l', 'e', (13, 6), 'f', 'i', 'g', 'l', 'i', (12, 7), 'm', 'a', 'd', 'r', 'i', ' ', 'd', 'a', ' ', 'l', 'u', (68, 4), 'r', 't', 'e', ' ', 'n', (396, 4), 'i', 'u', ' ', 'c', 'e', 'l', 'a', 'n', 'd', 'o', ' ', 'l', 'a', 'n', 'i', 'm', 'o', ' ', 'r', 'i', 'b', (67, 5), (306, 5), (138, 4), 'e', 'r', ' ', 'd', 'a', 'r', (99, 4), 'd', 'i', ' ', 'l', 'o', 'r', ' ', 'm', 'a', 'n', (508, 4), (70, 6), (398, 6), 'f', 'a', 't', 'i', 'c', 'a', ' ', 'l', (283, 4), 'f', 'e', 's', 'e', (465, 7), (120, 4), 'g', 'n', (88, 4), 'e', ' ', 'g', 'u', 'e', 'r', 'r', 'i', 'e', (326, 4), ' ', 'r', 'u', 'g', 'g', 'i', 'e', 'r', ' ', 'f', (67, 5), (321, 4), 'd', 'i', 's', (333, 4), 't', 'o', (256, 7), 'f', 'a', (298, 4), 'm', 'o', 'r', 'i', 'r', 'e', ' ', 'd', 'a', 'f', 'f', 'a', 'n', 'n', (376, 5), 'd', 'i', 's', 'a', 'g', 'i', 'o', ' ', (51, 4), (411, 4), 't', (33, 4), 'a', (111, 6), 'a', ' ', 'v', 'e', 'c', 'c', 'h', 'i', (404, 6), 'l', 'o', 'd', 'i', 'a', 'v', (27, 4), 'a', (474, 4), 'f', 'e', 'm', 'i', 'n', 'a', ' ', (21, 4), (50, 4), 'l', 'c', 'u', 'n', ' ', 'n', 'i', 'm', 'i', 'c', 'o', ' ', 'p', 'o', 's', 's', 'a', ' ', 'n', 'u', 'd', (512, 5), 'm', 'a', 'n', 'o', (202, 6), 'e', (351, 4), 'g', (149, 4), 't', (67, 5), (86, 4), (310, 4), 's', 'i', ' ', 's', 'c', 'i', (374, 4), 'e', 'r', 'a', (289, 5), 'u', 'n', 'a', ' ', 's', 'c', (71, 5), 'e', 'd', ' ', (139, 5), (23, 4), 'v', 'e', 'n', 'd', (510, 6), 'e', 'l', (494, 4), (471, 4), (73, 4), (333, 4), (372, 5), 'f', 'a', 'c', 'e', (380, 6), (48, 4), 's', 'o', 'n', 'a', ' ', 'r', (70, 5), (341, 4), 'u', 'n', ' ', 's', 't', 'i', 'm', 'u', 'l', 'o', ' ', 'a', 'g', 'u', 'z', 'z', (129, 4), 'u', 'n', ' ', 'v', 'i', 'l', 'l', (163, 4), (142, 4), 'q', 'u', 'i', 'v', 'i', (144, 4), 't', 'r', 'o', 'v', (489, 5), 'p', 'o', 's', 'e', (198, 8), (422, 5), 'e', 's', 's', 'a', 'g', 'g', (169, 4), 'e', (32, 4), 's', 'u', 'e', ' ', 'g', 'i', 'o', 'v', 'a', 'n', (131, 4), 'c', (71, 8), 'e', 'l', 'l', 'o', 'n', 't', 'a', (223, 6), 'o', (63, 4), 'i', (194, 5), 's', 'c', 'o', 'r', 'd', 'a', 'r', 's', 'i', (26, 6), 'h', (391, 5), 'p', 'i', 'u', ' ', 'a', ' ', 't', 'e', 'n', (289, 5), (107, 4), 'i', ' ', 'a', 'l', ' ', 'f', 'i', (81, 5), 'n', 'e', ' ', 'm', 'e', (160, 7), (403, 8), 'i', 'a', ' ', (10, 4), 'n', 'd', 'i', 'c', (77, 5), 'm', 'a', (181, 4), 'e', ' ', 'i', 'l', ' ', 'd', 'e', 's', 'i', 'r', ' ', 'd', 'o', 'f', 'f', (301, 4), (502, 4), (57, 4), 'm', (75, 5), 'v', 'i', 'e', 'n', (37, 5), 'p', 'o', 't', 'e', 'r', 'e', ' ', 'e', ' ', 'p', 'u', 'r', ' ', 'v', 'o', 'r', 'r', 'i', 'a', 'n', ' ', 's', 'f', 'o', 'g', (78, 5), 'c', 'h', 'i', (305, 5), 's', 'a', 's', 's', 'i', (47, 5), 'e', 'r', 'c', 'u', 'o', 't', 'e', (26, 8), ' ', 'l', 'u', 'n', 'g', (501, 4), 't', 'r', 'a', (475, 4), 'm', 'o', 'r', 'd', (15, 8), 'c', (456, 4), ' ', 'a', 'g', 'h', (58, 6), (41, 5), 'c', 'o', 'm', 'e', ' ', 't', 'o', 'r', 'r', 'e', 'n', (69, 5), (311, 4), 'p', 'e', 'r', 'b', (433, 5), 'c', 'i', 'a', (80, 5), 'a', ' ', 'p', 'i', 'o', 'g', 'g', 'i', 'a', ' ', 't', 'a', 'l', 'v', 'o', 'l', 't', 'a', ' ', 'o', ' ', 'n', 'i', 'e', (401, 4), 'c', 'i', 'o', 'l', 't', 'e', ' ', 'v', 'a', ' ', 'r', 'u', 'i', 'n', 'o', 's', 'o', ' ', (374, 4), 'u', ' ', 'd', 'a', ' ', 'm', 'o', 'n', 't', 'i', ' ', 'c', (72, 6), (123, 5), 'r', 'b', 'o', 'r', (269, 5), (193, 7), (10, 4), 'c', 'a', 'm', 'p', (10, 4), 'l', 'e', ' ', 'r', 'i', 'c', (77, 6), 'i', 'e', 'n', ' ', 't', 'e', 'm', 'p', 'o', ' ', 'p', 'o', (245, 4), 'e', ' ', 'l', 'o', 'r', 'g', (191, 4), 'o', 's', 'a', (154, 8), (82, 4), 'c', 'a', 'd', (300, 4), 's', 'i', (63, 4), 'f', 'o', 'r', 'z', 'e', (23, 5), (472, 4), 't', (75, 5), 'c', 'h', 'u', 'n', ' ', 'f', 'a', 'n', 'c', 'i', 'u', 'l', 'l', 'o', ' ', 'u', 'n', 'a', ' ', 'f', 'e', 'm', 'i', 'n', 'a', (500, 5), 't', 'u', 't', 't', 'o', ' ', 'p', 'a', 's', 's', 'a', 'r', (302, 4), 'p', (331, 5), 'e', ' ', 's', 'p', 'e', 's', 's', 'o', ' ', (248, 4), 'e', (319, 4), 's', 'c', 'i', (42, 5), 'c', 'o', 's', 'i', ' ', (264, 4), 'f', 'u', (444, 7), 'r', 'g', 'a', 'n', (318, 4), ' ', 'i', 'n', 't', 'o', 'r', 'n', 'o', ' ', 'f', 'e', 'c', 'e', ' ', 't', 'r', 'e', 'm', 'a', (491, 4), 'v', 'u', 'n', 'q', 'u', 'e', ' ', 'u', 'd', 'i', 'a', (432, 6), 'n', (368, 4), 'o', 'r', ' ', 'v', 'e', 'n', 'u', 't', (300, 4), (440, 4), (179, 4), 'h', 'a', (118, 4), 'z', 'z', 'a', 't', 'o', (40, 4), 'c', (77, 5), 'd', 'i', ' ', 't', 'a', 'n', 't', 'o', ' ', (254, 8), (236, 8), (236, 7), 'd', (78, 4), (137, 4), (66, 4), 'p', 'u', 'o', (235, 4), 'r', ' ', 's', 'i', 'n', ' ', 'a', ' ', 'b', 'a', 'm', 'b', 'i', 'n', (418, 4), (75, 5), (104, 4), 'p', 'e', 'l', 'a', 'r', (43, 4), 'l', (31, 4), 'r', 'b', 'a', (128, 7), 'l', (7, 5), (76, 4), 'q', 'u', 'i', 'n', 'd', 'i', ' ', 'r', 'u', 'g', 'g', 'i', 'e', 'r', (111, 4), 'l', (102, 4), 'n', 'z', 'e', 'l', 'l', 'e', (152, 4), (300, 4), 'o', ' ', 'a', 'l', 'l', 'a', ' ', 'r', 'o', 'c', 'c', 'a', ' ', 'v', 'o', 'l', 't', 'a', 'r']\n",
    "LZSS_decode(tok)"
   ]
  },
  {
   "cell_type": "code",
   "execution_count": 17,
   "metadata": {},
   "outputs": [
    {
     "data": {
      "text/plain": [
       "'en arrivant a paris avait ete dacheter des habits de deuil pour une petite fille de sept a huit ans puis de se procurer un logement cela fait il setait rendu a montfermeil on se souvient que deja lors de sa precedente evasion il y avait fait ou dans les environs un voyage mysterieux dont la justice avait eu quelque lueur du reste on le croyait mort et cela epaississait lobscurite qui setait faite sur lui a paris il lui tomba sous la main un des journaux qui enregistraient le fait il se sentit rassure et presque en paix comme sil etait reellement mort le soir meme du jour ou jean valjean avait tire cosette des griffes des thenardier il rentrait dans paris il y rentrait a la nuit tombante avec lenfant par la barriere de monceaux la il monta dans un cabriolet qui le conduisit a lesplanade de lobservatoire il y descendit paya le cocher prit cosette par la main et tous deux dans la nuit noire par les rues desertes qui avoisinent lourcine et la glaciere se dirigerent vers le boulevard de lhopital la journee avait ete etrange et remplie demotions pour cosette on avait mange derriere des haies du pain et du fromage achetes dans des gargotes isolees on avait souvent change de voiture on avait fait des bouts de chemin a pied elle ne se plaignait pas mais elle etait fatiguee et jean valjean sen apercut a sa main quelle tirait davantage en marchant il la prit sur son dos cosette sans lacher catherine posa sa tete sur lepaule de jean valjean et sy endormit livre quatriemela masure gorbeau chapitre i maitre gorbeau il y a quarante ans le promeneur solitaire qui saventurait dans les pays perdus de la salpetriere et qui montait par le boulevard jusque vers la barriere ditalie arrivait a des endroits ou lon eut'"
      ]
     },
     "execution_count": 17,
     "metadata": {},
     "output_type": "execute_result"
    }
   ],
   "source": [
    "alf = [' ', 'a', 'b', 'c', 'd', 'e', 'f', 'g', 'h', 'i', 'j', 'l', 'm', 'n', 'o', 'p', 'q', 'r', 's', 't', 'u', 'v', 'x', 'y']\n",
    "tok = [5, 13, 0, 1, 17, 17, 9, 21, 1, 13, 19, 26, 0, 15, 27, 9, 18, 26, 31, 9, 34, 5, 19, 5, 0, 4, 1, 3, 8, 45, 5, 17, 48, 5, 40, 8, 1, 2, 43, 40, 4, 47, 64, 20, 9, 11, 36, 14, 20, 55, 20, 13, 47, 15, 45, 43, 47, 6, 68, 11, 65, 47, 18, 5, 15, 34, 1, 0, 8, 67, 89, 13, 40, 15, 67, 63, 85, 76, 17, 14, 3, 72, 54, 0, 74, 0, 11, 14, 7, 5, 12, 24, 34, 3, 5, 11, 90, 6, 1, 43, 0, 68, 0, 86, 19, 122, 34, 17, 24, 4, 20, 35, 12, 14, 33, 6, 54, 114, 125, 137, 126, 85, 71, 21, 9, 115, 0, 16, 20, 84, 10, 90, 110, 17, 99, 126, 90, 15, 131, 117, 64, 33, 47, 5, 31, 18, 9, 143, 125, 23, 41, 129, 0, 121, 123, 71, 48, 32, 40, 83, 40, 24, 147, 102, 95, 107, 25, 21, 14, 23, 1, 112, 0, 12, 23, 18, 46, 29, 5, 20, 22, 48, 137, 34, 119, 0, 10, 20, 199, 9, 117, 174, 123, 202, 150, 152, 11, 151, 47, 11, 152, 72, 48, 134, 131, 199, 47, 143, 83, 0, 3, 102, 193, 123, 136, 17, 44, 116, 118, 90, 87, 122, 18, 169, 246, 175, 110, 2, 18, 104, 29, 46, 218, 9, 144, 128, 123, 177, 255, 18, 225, 223, 257, 160, 38, 40, 125, 265, 0, 19, 14, 12, 2, 90, 18, 71, 182, 90, 12, 122, 25, 108, 64, 40, 10, 71, 17, 13, 1, 203, 256, 0, 24, 131, 7, 39, 19, 17, 122, 149, 232, 261, 124, 69, 86, 144, 33, 123, 301, 246, 105, 295, 34, 161, 57, 221, 295, 25, 37, 9, 204, 3, 274, 114, 126, 125, 45, 175, 131, 118, 83, 114, 33, 196, 14, 239, 109, 145, 9, 55, 114, 327, 133, 209, 289, 0, 179, 10, 5, 32, 0, 31, 11, 351, 353, 1, 42, 34, 19, 342, 47, 325, 127, 255, 286, 0, 7, 29, 6, 139, 99, 40, 19, 52, 291, 17, 4, 148, 55, 125, 131, 33, 301, 123, 49, 188, 37, 29, 269, 69, 173, 384, 300, 175, 155, 90, 13, 93, 272, 274, 276, 165, 41, 5, 3, 340, 13, 121, 336, 390, 109, 90, 276, 28, 381, 84, 337, 13, 117, 292, 204, 208, 125, 136, 33, 90, 388, 40, 108, 3, 60, 29, 14, 83, 34, 151, 257, 232, 325, 13, 133, 39, 123, 155, 57, 15, 119, 291, 64, 56, 109, 14, 251, 54, 31, 273, 363, 306, 0, 173, 286, 117, 443, 123, 37, 193, 340, 233, 103, 52, 55, 161, 123, 365, 45, 255, 413, 208, 282, 9, 25, 45, 402, 211, 56, 293, 430, 414, 0, 400, 123, 13, 14, 460, 480, 57, 0, 17, 152, 374, 54, 46, 40, 439, 41, 496, 169, 75, 336, 110, 72, 3, 483, 166, 207, 90, 7, 119, 515, 54, 100, 48, 342, 9, 112, 395, 354, 54, 182, 47, 2, 71, 83, 31, 379, 453, 11, 8, 14, 15, 43, 1, 69, 208, 288, 72, 75, 47, 359, 175, 53, 315, 301, 13, 195, 485, 131, 12, 449, 148, 56, 136, 362, 137, 96, 348, 477, 19, 255, 143, 552, 237, 32, 195, 64, 417, 523, 56, 58, 302, 63, 134, 322, 484, 34, 346, 6, 102, 282, 195, 50, 52, 505, 180, 188, 368, 7, 27, 7, 14, 596, 39, 436, 5, 499, 573, 360, 126, 146, 149, 51, 576, 419, 191, 43, 314, 609, 175, 305, 368, 534, 20, 19, 158, 51, 113, 483, 35, 543, 5, 4, 295, 11, 232, 75, 144, 36, 119, 527, 291, 467, 1, 40, 482, 184, 636, 517, 621, 1, 362, 7, 152, 517, 209, 352, 190, 545, 357, 25, 86, 25, 1, 77, 17, 104, 89, 159, 196, 283, 218, 333, 47, 362, 386, 588, 552, 428, 558, 25, 282, 667, 59, 336, 270, 160, 254, 126, 225, 278, 25, 4, 14, 40, 570, 262, 181, 414, 628, 55, 433, 376, 54, 516, 70, 18, 277, 90, 46, 262, 264, 244, 20, 232, 452, 661, 354, 660, 658, 315, 126, 173, 132, 338, 12, 123, 11, 30, 131, 218, 652, 201, 114, 481, 645, 314, 602, 17, 2, 352, 134, 614, 543, 300, 47, 257, 482, 746, 369, 338, 741, 292, 461, 173, 90, 151, 27, 32, 255, 699, 232, 161, 274, 24, 202, 55, 278, 729, 259, 731, 507, 708, 21, 115, 72, 175, 490, 183, 36, 1, 198, 36, 54, 133, 158, 208, 708, 11, 77, 300, 418, 722, 507, 427, 259, 316, 27, 470, 624, 536, 27, 634, 210, 18, 319, 775, 157, 491, 416, 201, 731, 380, 128, 729, 551, 417, 610, 429, 499, 132, 102, 62, 349, 134, 110, 484, 625]\n",
    "LZW_decode2(tok,alf)"
   ]
  },
  {
   "cell_type": "code",
   "execution_count": null,
   "metadata": {},
   "outputs": [],
   "source": []
  }
 ],
 "metadata": {
  "kernelspec": {
   "display_name": "Python 3 (ipykernel)",
   "language": "python",
   "name": "python3"
  },
  "language_info": {
   "codemirror_mode": {
    "name": "ipython",
    "version": 3
   },
   "file_extension": ".py",
   "mimetype": "text/x-python",
   "name": "python",
   "nbconvert_exporter": "python",
   "pygments_lexer": "ipython3",
   "version": "3.9.12"
  }
 },
 "nbformat": 4,
 "nbformat_minor": 4
}
